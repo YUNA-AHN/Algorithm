{
 "cells": [
  {
   "cell_type": "markdown",
   "metadata": {},
   "source": [
    "# 01_DAY"
   ]
  },
  {
   "cell_type": "markdown",
   "metadata": {},
   "source": [
    "## 01_데일리실습"
   ]
  },
  {
   "cell_type": "code",
   "execution_count": 6,
   "metadata": {},
   "outputs": [
    {
     "name": "stdout",
     "output_type": "stream",
     "text": [
      "학생 정보를 출력합니다.\n",
      "각각의 정보는 다음과 같습니다\n",
      "이름 :  홍길동\n",
      "나이 :  20\n",
      "출력 완료\n"
     ]
    }
   ],
   "source": [
    "# ws_1_1.py\n",
    "name = '홍길동' # 나의 이름\n",
    "age = 20 # 나의 나이\n",
    "NAME_DESCRIPTION = '이름 : '\n",
    "AGE_DESCRIPTION = '나이 : '\n",
    "STUDENT_INFO_DESCRIPTION = '학생 정보를 출력합니다.'\n",
    "MAIN_INFO_DESCRIPTION = '각각의 정보는 다음과 같습니다'\n",
    "SUCESS_INFO_DESCRIPTION = '출력 완료'\n",
    "\n",
    "print(STUDENT_INFO_DESCRIPTION)\n",
    "print(MAIN_INFO_DESCRIPTION)\n",
    "print(NAME_DESCRIPTION, name)\n",
    "print(AGE_DESCRIPTION, age)\n",
    "print(SUCESS_INFO_DESCRIPTION)\n"
   ]
  },
  {
   "cell_type": "code",
   "execution_count": 7,
   "metadata": {},
   "outputs": [
    {
     "name": "stdout",
     "output_type": "stream",
     "text": [
      "<class 'str'>\n",
      "<class 'int'>\n",
      "<class 'float'>\n",
      "<class 'list'>\n",
      "<class 'dict'>\n",
      "<class 'set'>\n",
      "<class 'range'>\n",
      "<class 'tuple'>\n",
      "<class 'bool'>\n"
     ]
    }
   ],
   "source": [
    "# ws_1_2.py\n",
    "string = '문자열'\n",
    "integer = 10\n",
    "floating_point = 3.14\n",
    "a_list = [1, 2, 3, 4, 5]\n",
    "dictionary = {'name': '홍길동', 'age': 20}\n",
    "a_set = {1, 2, 3, 4, 5}\n",
    "a_range = range(11)\n",
    "a_tuple = (1, 2, 3)\n",
    "boolean = True\n",
    "\n",
    "print(type(string))\n",
    "print(type(integer))\n",
    "print(type(floating_point))\n",
    "print(type(a_list))\n",
    "print(type(dictionary))\n",
    "print(type(a_set))\n",
    "print(type(a_range))\n",
    "print(type(a_tuple))\n",
    "print(type(boolean))"
   ]
  },
  {
   "cell_type": "code",
   "execution_count": 19,
   "metadata": {},
   "outputs": [
    {
     "name": "stdout",
     "output_type": "stream",
     "text": [
      "True\n",
      "True\n",
      "True\n",
      "True\n",
      "True\n",
      "True\n",
      "True\n",
      "True\n",
      "True\n"
     ]
    }
   ],
   "source": [
    "# 2. 해당 타입이 맞는지 그 결과를 출력해보아라.\n",
    "# is 비교 연산자 => 가리키는 주소가 서로 같은지를 비교\n",
    "# isinstance(interger,int) # 변수 명이 아니라 값을 입력해도 가능\n",
    "print(type(string) is str)\n",
    "print(type(integer) is int)\n",
    "print(type(floating_point) is float)\n",
    "print(type(a_list) is list)\n",
    "print(type(dictionary) is dict)\n",
    "print(type(a_set) is set)\n",
    "print(type(a_range) is range)\n",
    "print(type(a_tuple) is tuple)\n",
    "print(type(boolean) is bool)"
   ]
  },
  {
   "cell_type": "code",
   "execution_count": 25,
   "metadata": {},
   "outputs": [
    {
     "name": "stdout",
     "output_type": "stream",
     "text": [
      "반짝 반짝 작은 별 아름답게 비치네\n",
      "동쪽 하늘에서도 서쪽 하늘에서도\n",
      "동쪽 하늘에서도 서쪽 하늘에서도\n",
      "반짝 반짝 작은 별 아름답게 비치네\n"
     ]
    }
   ],
   "source": [
    "# ws_1_3.py\n",
    "twinkle = '반짝 반짝'\n",
    "above = '에서도'\n",
    "little_star = '작은별'\n",
    "beautifiul = '아름답게 비치네'\n",
    "east_sky = '동쪽 하늘'\n",
    "west_sky ='서쪽 하늘'\n",
    "\n",
    "print(twinkle, little_star[:2], little_star[-1], beautifiul + '\\n'\n",
    "      + east_sky+above, west_sky+above+ '\\n'\n",
    "      + twinkle, little_star[:2], little_star[-1], beautifiul )\n",
    "\n",
    "print(twinkle, little_star[:2], little_star[-1], beautifiul)\n",
    "print(east_sky+above, west_sky+above)\n",
    "print(twinkle, little_star[:2], little_star[-1], beautifiul)"
   ]
  },
  {
   "cell_type": "code",
   "execution_count": 28,
   "metadata": {},
   "outputs": [
    {
     "name": "stdout",
     "output_type": "stream",
     "text": [
      "원주율 : 3.141592653589793\n",
      "반지름 : 15\n",
      "원의 둘레 : 94.24777960769379\n",
      "원의 넓이 : 706.8583470577034\n",
      "원주율 : 3.141592653589793\n",
      "반지름 : 15\n",
      "원의 둘레 : 94.24777960769379\n",
      "원의 넓이 : 706.8583470577034\n"
     ]
    }
   ],
   "source": [
    "# 원주율\n",
    "pi = 3.1415926535897932384626433832795028841971693993751058209749445923078164062862089986280348253421170679\n",
    "# 반지름\n",
    "r = 15\n",
    "r_length = r * 2 * pi\n",
    "r_area = r * r * pi\n",
    "\n",
    "print('원주율 : ' + str(pi))\n",
    "print('반지름 : ' + str(r))\n",
    "print('원의 둘레 : ' + str(r_length))\n",
    "print('원의 넓이 : ' + str(r_area))\n",
    "\n",
    "# f-string\n",
    "print(f'원주율 : {pi}')\n",
    "print(f'반지름 : {r}')\n",
    "print(f'원의 둘레 : {r_length}')\n",
    "print(f'원의 넓이 : {r_area}')"
   ]
  },
  {
   "cell_type": "code",
   "execution_count": 39,
   "metadata": {},
   "outputs": [
    {
     "name": "stdout",
     "output_type": "stream",
     "text": [
      "-3배의 2배의 값 : -6\n",
      "3의 제곱 값 : 9\n",
      "3의 제곱 값을 3의 2배의 값으로 나눈 몫 : 1\n",
      "3의 제곱 값을 3의 2배의 값으로 나눈 나머지 : 3\n",
      "3의 제곱 값에 -3의 제곱 값을 더한 결과 : 18\n"
     ]
    }
   ],
   "source": [
    "# ws_1_5.py\n",
    "print(f'-3배의 2배의 값 : {-3 * 2}')\n",
    "print(f'3의 제곱 값 : {3 ** 2}')\n",
    "print(f'3의 제곱 값을 3의 2배의 값으로 나눈 몫 : {3 ** 2 // (3 * 2)}')\n",
    "print(f'3의 제곱 값을 3의 2배의 값으로 나눈 나머지 : {3 ** 2 % (3 * 2)}')\n",
    "print(f'3의 제곱 값에 -3의 제곱 값을 더한 결과 : {3 ** 2 + (-3) ** 2}')"
   ]
  },
  {
   "cell_type": "markdown",
   "metadata": {},
   "source": [
    "## 01_데일리과제"
   ]
  },
  {
   "cell_type": "code",
   "execution_count": 24,
   "metadata": {},
   "outputs": [
    {
     "name": "stdout",
     "output_type": "stream",
     "text": [
      "Hello, Wolrd!\n"
     ]
    }
   ],
   "source": [
    "# hw_1_2.py\n",
    "word = 'Hello, Wolrd!'\n",
    "\n",
    "print(word)"
   ]
  },
  {
   "cell_type": "code",
   "execution_count": 27,
   "metadata": {},
   "outputs": [
    {
     "name": "stdout",
     "output_type": "stream",
     "text": [
      "사과는 영어로 apple\n",
      "바나나는 영어로 banana\n",
      "키위는 영어로 kiwi\n"
     ]
    }
   ],
   "source": [
    "#hw_1_4.py\n",
    "kor_apple = '사과'\n",
    "kor_banana = '바나나'\n",
    "kor_kiwi = '키위'\n",
    "to_korean = '는'\n",
    "to_english = '영어로'\n",
    "eng_apple = 'apple'\n",
    "eng_banana = 'banana'\n",
    "eng_kiwi = 'kiwi'\n",
    "\n",
    "print(kor_apple + to_korean, to_english , eng_apple + '\\n'\n",
    "      + kor_banana + to_korean, to_english , eng_banana + '\\n'\n",
    "      + kor_kiwi + to_korean, to_english , eng_kiwi)"
   ]
  },
  {
   "cell_type": "code",
   "execution_count": 5,
   "metadata": {},
   "outputs": [
    {
     "name": "stdout",
     "output_type": "stream",
     "text": [
      "사과는 영어로 apple\n",
      "바나나는 영어로 banana\n",
      "키위는 영어로 kiwi\n"
     ]
    }
   ],
   "source": [
    "fruits = {\n",
    "    '사과':'apple',\n",
    "    '바나나':'banana', \n",
    "    '키위':'kiwi'\n",
    "    }\n",
    "for kor, eng in fruits.items():\n",
    "    print(f'{kor}는 영어로 {eng}')"
   ]
  },
  {
   "cell_type": "code",
   "execution_count": 19,
   "metadata": {},
   "outputs": [
    {
     "name": "stdout",
     "output_type": "stream",
     "text": [
      "0 16 21\n"
     ]
    }
   ],
   "source": [
    "# 추가문제\n",
    "# 시분초를 변수로 입력하고 나서 1001초 후의 시간을 출력해주세요!\n",
    "# 24시간이 넘는 경우에는 0으로 초기화 합니다\n",
    "\n",
    "# 아래의 변수 할당 값은 바뀔 수 있음!\n",
    "hour = 23\n",
    "min = 59\n",
    "second = 40\n",
    "\n",
    "# 1001초 후의 시간으로 변경\n",
    "# 최소단위가 몇인지 파악... -> 초단위다!\n",
    "# 최소단위로 모든 값을 변환...\n",
    "\n",
    "HOUR_PER_SECONDS = 60 * 60\n",
    "MIN_PER_SECONDS = 60 \n",
    "\n",
    "seconds = (hour * HOUR_PER_SECONDS) + (min * MIN_PER_SECONDS) + second + 1001\n",
    "\n",
    "hour = seconds // (HOUR_PER_SECONDS) % 24\n",
    "min = seconds % (HOUR_PER_SECONDS) // MIN_PER_SECONDS\n",
    "second = seconds % MIN_PER_SECONDS\n",
    "\n",
    "print(hour, min, second)"
   ]
  }
 ],
 "metadata": {
  "kernelspec": {
   "display_name": "Python 3",
   "language": "python",
   "name": "python3"
  },
  "language_info": {
   "codemirror_mode": {
    "name": "ipython",
    "version": 3
   },
   "file_extension": ".py",
   "mimetype": "text/x-python",
   "name": "python",
   "nbconvert_exporter": "python",
   "pygments_lexer": "ipython3",
   "version": "3.9.13"
  },
  "orig_nbformat": 4
 },
 "nbformat": 4,
 "nbformat_minor": 2
}
