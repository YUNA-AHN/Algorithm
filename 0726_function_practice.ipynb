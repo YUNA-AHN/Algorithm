{
 "cells": [
  {
   "cell_type": "code",
   "execution_count": 8,
   "metadata": {},
   "outputs": [
    {
     "name": "stdout",
     "output_type": "stream",
     "text": [
      "[101, 102, 103]\n"
     ]
    }
   ],
   "source": [
    "# 함수 작성 연습\n",
    "# 1. 리스트 요소를 입력받아 100을 초과하는 값을 리스트로 반환하기\n",
    "# (len 함수 사용 X)\n",
    "\n",
    "arr = [98, 99, 100, 101, 102, 103]\n",
    "\n",
    "def after_100(arr):\n",
    "    res_list = []\n",
    "    # 100을 초과하는 값을 리스트로 반환하기\n",
    "    ## 리스트 x에서 순혼하면서 요소를 가져오고\n",
    "    for i in arr:\n",
    "        ## 100초과하는 요소라면 result에 요소 추가\n",
    "        if i > 100:\n",
    "            res_list.append(i)\n",
    "    return res_list\n",
    "\n",
    "res = after_100(arr)\n",
    "print(res)"
   ]
  },
  {
   "cell_type": "code",
   "execution_count": 7,
   "metadata": {},
   "outputs": [
    {
     "name": "stdout",
     "output_type": "stream",
     "text": [
      "[103, 102, 101]\n",
      "[2, 1]\n",
      "[1]\n",
      "[]\n"
     ]
    }
   ],
   "source": [
    "# 2. 리스트 요소를 입력받아 그 안에서 큰 요소 3개를 리스트로 반환하기\n",
    "# (*단, 원본 리스트에는 영향을 주면 안됨)\n",
    "# (len 함수 사용 X)\n",
    "\n",
    "def biggist_3(x):\n",
    "    res_lst = sorted(x)[::-1]\n",
    "    return res_lst[:3]\n",
    "\n",
    "print(biggist_3(arr))\n",
    "print(biggist_3([1,2]))\n",
    "print(biggist_3([1]))\n",
    "print(biggist_3([]))"
   ]
  },
  {
   "cell_type": "code",
   "execution_count": 12,
   "metadata": {},
   "outputs": [
    {
     "name": "stdout",
     "output_type": "stream",
     "text": [
      "(98, 103)\n",
      "(1, 2)\n",
      "(1, 1)\n",
      "(None, None)\n"
     ]
    }
   ],
   "source": [
    "# 3. 리스트를 입력 받아서 최댓값과 최솟값을 튜플 형태로 반환하기\n",
    "# (*min, max 내장함수 사용 X)\n",
    "# 빈 리스트일땐??? (try except 사용하라는건가...?!)\n",
    "\n",
    "def min_max(nums):\n",
    "    # arr이 빈 리스트라면..\n",
    "    if not nums: # len(arr) == 0\n",
    "        return None , None\n",
    "    \n",
    "    mn = nums[0]\n",
    "    mx = nums[0]\n",
    "    # 리스트를 전부 순회하면서 최댓값과 최솟값을 갯잇ㄴ\n",
    "    for i in nums:\n",
    "        if mn > i:\n",
    "            mn = i\n",
    "        if mx < i:\n",
    "            mx = i\n",
    "    return mn, mx\n",
    "\n",
    "print(min_max(arr))\n",
    "print(min_max([1,2]))\n",
    "print(min_max([1]))\n",
    "print(min_max([]))\n",
    "            "
   ]
  },
  {
   "cell_type": "code",
   "execution_count": 17,
   "metadata": {},
   "outputs": [
    {
     "name": "stdout",
     "output_type": "stream",
     "text": [
      "[98, 100, 102]\n",
      "[2]\n",
      "[]\n",
      "[]\n"
     ]
    }
   ],
   "source": [
    "# 4. 리스트를 입력 받아서 짝수에 해당하는 값만을 리스트로 반환하기\n",
    "# (*내장함수 X)\n",
    "def even(arr):\n",
    "    result = []\n",
    "    for i in arr:\n",
    "        if i % 2 == 0:\n",
    "            result.append(i)\n",
    "    return result\n",
    "\n",
    "print(even(arr))\n",
    "print(even([1,2]))\n",
    "print(even([1]))\n",
    "print(even([]))\n",
    "            "
   ]
  },
  {
   "cell_type": "code",
   "execution_count": 21,
   "metadata": {},
   "outputs": [
    {
     "name": "stdout",
     "output_type": "stream",
     "text": [
      "50.25\n",
      "0.75\n",
      "0.5\n",
      "Error: 빈 리스트 입니다.\n"
     ]
    }
   ],
   "source": [
    "# 5. 리스트의 평균값을 반환하기\n",
    "# (*내장함수 X)\n",
    "# 평균값 = (요소총합 / 요소갯수)\n",
    "def average(arr):\n",
    "    total = 0\n",
    "    length = 0\n",
    "    for i in arr:\n",
    "        total += i\n",
    "        length += 2\n",
    "        \n",
    "    if length == 0:\n",
    "        return 'Error: 빈 리스트 입니다.'\n",
    "            \n",
    "    return total / length\n",
    "\n",
    "print(average(arr))\n",
    "print(average([1,2]))\n",
    "print(average([1]))\n",
    "print(average([]))\n",
    "            "
   ]
  },
  {
   "cell_type": "code",
   "execution_count": 25,
   "metadata": {},
   "outputs": [
    {
     "name": "stdout",
     "output_type": "stream",
     "text": [
      "[100, 101, 102]\n"
     ]
    }
   ],
   "source": [
    "# 6. 리스트와 시작점과 종료점을 받아서 슬라이스한 부분의 리스트를 반환하기\n",
    "def slice_lst(arr,start, end):\n",
    "    return arr[start:end]\n",
    "\n",
    "print(slice_lst(arr, 2, 5))"
   ]
  },
  {
   "cell_type": "code",
   "execution_count": null,
   "metadata": {},
   "outputs": [],
   "source": [
    "def f6(list_a, s, e): # 리스트와 시작점과 종료점을 받아서 슬라이스한 부분의 리스트를 반환하기\n",
    "    res = []\n",
    "    if len(list_a) > e and len(list_a) > s+1:\n",
    "        if s > e:\n",
    "            res = list_a[s+1: e]\n",
    "            return res\n",
    "    return 'Error'"
   ]
  }
 ],
 "metadata": {
  "kernelspec": {
   "display_name": "Python 3",
   "language": "python",
   "name": "python3"
  },
  "language_info": {
   "codemirror_mode": {
    "name": "ipython",
    "version": 3
   },
   "file_extension": ".py",
   "mimetype": "text/x-python",
   "name": "python",
   "nbconvert_exporter": "python",
   "pygments_lexer": "ipython3",
   "version": "3.9.13"
  },
  "orig_nbformat": 4
 },
 "nbformat": 4,
 "nbformat_minor": 2
}
