{
 "cells": [
  {
   "cell_type": "markdown",
   "metadata": {},
   "source": [
    "# 02_DAY"
   ]
  },
  {
   "cell_type": "markdown",
   "metadata": {},
   "source": [
    "## 02_데일리실습"
   ]
  },
  {
   "cell_type": "code",
   "execution_count": 3,
   "metadata": {},
   "outputs": [
    {
     "name": "stdout",
     "output_type": "stream",
     "text": [
      "다음은 이형기 시인의 \"낙화\"의 한 구절이다.\n",
      "- 1연\n",
      "\t가야할 때 언제인가를\n",
      "\t분명히 알고 가는 이의\n",
      "\t뒷모습은 얼마나 아름다운가. \n",
      "\n",
      "나는 이 시를 보며 '나는 내가 가야할 때가 언제일까?' 를 생각해 보았다.\n"
     ]
    }
   ],
   "source": [
    "# ws_2_1.py\n",
    "print('다음은 이형기 시인의 \\\"낙화\\\"의 한 구절이다.\\n- 1연\\n\\t가야할 때 언제인가를\\n\\t분명히 알고 가는 이의\\n\\t뒷모습은 얼마나 아름다운가. \\n\\n나는 이 시를 보며 \\'나는 내가 가야할 때가 언제일까?\\' 를 생각해 보았다.'\n",
    ")"
   ]
  },
  {
   "cell_type": "code",
   "execution_count": 4,
   "metadata": {},
   "outputs": [
    {
     "name": "stdout",
     "output_type": "stream",
     "text": [
      "주생전의 작가는 권필이고,\n",
      "허균은 주생전를 집필하였다.\n"
     ]
    }
   ],
   "source": [
    "# ws_2_2.py\n",
    "author_1 = '권필'\n",
    "author_2 = '허균'\n",
    "book_1 = '주생전'\n",
    "book_2 = '홍길동전'\n",
    "\n",
    "print(f'{book_1}의 작가는 {author_1}이고,\\n{author_2}은 {book_2}를 집필하였다.')"
   ]
  },
  {
   "cell_type": "code",
   "execution_count": 10,
   "metadata": {},
   "outputs": [
    {
     "name": "stdout",
     "output_type": "stream",
     "text": [
      "허균 : 홍길동전\n",
      "이항복 : 유연전\n",
      "작자 미상 : 심청전\n",
      "박지원 : 광문자전\n",
      "임제 : 수성지\n"
     ]
    }
   ],
   "source": [
    "# ws_2_3.py\n",
    "books = ['광문자전', '유연전', '심청전', '홍길동전', '수성지']\n",
    "authors = ['작자 미상', '허균', '박지원', '이항복', '임제']\n",
    "print(f'{authors[1]} : {books[-2]}')\n",
    "print(f'{authors[-2]} : {books[1]}')\n",
    "print(f'{authors[0]} : {books[2]}')\n",
    "print(f'{authors[2]} : {books[0]}')\n",
    "print(f'{authors[-1]} : {books[-1]}')\n",
    "\n",
    "# 패킹 단일스왑\n",
    "books[3] , books[0] = books[0], books[3]\n",
    "\n",
    "# 3. 다수 스왑 진행\n",
    "books = [books[3], books[1], books[2], books[0], books[4]]\n",
    "authors = [authors[1], authors[3], authors[0], authors[2], authors[4]]\n"
   ]
  },
  {
   "cell_type": "code",
   "execution_count": 22,
   "metadata": {},
   "outputs": [
    {
     "name": "stdout",
     "output_type": "stream",
     "text": [
      "김시습 :  ['금오신화', '이생규장전', '만복자서포기']\n",
      "허균 :  ['홍길동전', '장생전', '도문대작']\n",
      "남영로 :  ['옥루몽', '옥련몽']\n",
      "작자 미상 :  ['장화홍련전', '가락국 신화', '온달 설화']\n",
      "임제 :  ['수성지', '백호집', '원생몽유록']\n"
     ]
    }
   ],
   "source": [
    "# ws_2_4.py\n",
    "information = dict()\n",
    "authors = ['김시습', '허균', '남영로', '작자 미상', '임제', '박지원']\n",
    "books = [\n",
    "    ['장화홍련전', '가락국 신화', '온달 설화'],\n",
    "    ['금오신화', '이생규장전', '만복자서포기'],\n",
    "    ['수성지', '백호집', '원생몽유록'],\n",
    "    ['홍길동전', '장생전', '도문대작'],\n",
    "    ['옥루몽', '옥련몽'],\n",
    "]\n",
    "information[authors[0]] = books[1]\n",
    "information[authors[1]] = books[-2]\n",
    "information[authors[2]] = books[-1]\n",
    "information[authors[3]] = books[0]\n",
    "information[authors[-2]] = books[2]\n",
    "\n",
    "for i in information:\n",
    "    print(i + ' : ', information[i])"
   ]
  },
  {
   "cell_type": "code",
   "execution_count": 25,
   "metadata": {},
   "outputs": [
    {
     "name": "stdout",
     "output_type": "stream",
     "text": [
      "catalog와 backup_catalog를 비교한 결과\n",
      "False\n",
      "backup_catalog : \n",
      "[['시간의 틈', '반짝임의 어둠', '망각의 경계'], ['연기의 수수께끼', '장면의 고백', '드라마의 그림자'], ['황금의 칼날', '비열한 간신', '무명의 영웅'], ['성공의 열쇠', '내면의 변화', '목표의 달성']]\n",
      "\n",
      "catalog : \n",
      "[['시간의 틈', '반짝임의 어둠', '망각의 경계'], ['연기의 수수께끼', '장면의 고백', '드라마의 그림자'], ['황금의 칼날', '비열한 간신', '무명의 영웅'], ['성공을 향한 한 걸음', '내 삶의 변화', '목표 달성의 비밀']]\n"
     ]
    }
   ],
   "source": [
    "# ws_2_5.py\n",
    "catalog = [\n",
    "    ['시간의 틈', '반짝임의 어둠', '망각의 경계'], \n",
    "    ['연기의 수수께끼', '장면의 고백', '드라마의 그림자'], \n",
    "    ['황금의 칼날', '비열한 간신', '무명의 영웅'], \n",
    "    ['성공의 열쇠', '내면의 변화', '목표의 달성']\n",
    "]\n",
    "\n",
    "backup_catalog = catalog.copy()\n",
    "\n",
    "''' \n",
    "도서 제목 '성공의 열쇠', '내면의 변화', '목표의 달성' 을 각각\n",
    "'성공을 향한 한 걸음', '내 삶의 변화', '목표 달성의 비밀' 가 되도록 변경하시오.\n",
    "'''\n",
    "catalog[-1] = ['성공을 향한 한 걸음', '내 삶의 변화', '목표 달성의 비밀']\n",
    "\n",
    "print('catalog와 backup_catalog를 비교한 결과')\n",
    "# 식별 연산자로 catalog와 backup_catalog를 비교한 결과를 출력하시오. \n",
    "print(catalog == backup_catalog)\n",
    "\n",
    "print('backup_catalog : ')\n",
    "print(backup_catalog)\n",
    "print()\n",
    "\n",
    "print('catalog : ')\n",
    "print(catalog)\n"
   ]
  },
  {
   "cell_type": "markdown",
   "metadata": {},
   "source": [
    "## 02_데일리과제"
   ]
  },
  {
   "cell_type": "code",
   "execution_count": 28,
   "metadata": {},
   "outputs": [
    {
     "name": "stdout",
     "output_type": "stream",
     "text": [
      "현재 보유 중인 총 책의 수는 다음과 같습니다.\n",
      "10\n",
      "그 중, 대여중인 책을 제외한 책의 수는 다음과 같습니다.\n",
      "7\n"
     ]
    }
   ],
   "source": [
    "# hw_2_2.py\n",
    "book = '1'\n",
    "total = 10\n",
    "guide = '현재 보유 중인 총 책의 수는 다음과 같습니다.'\n",
    "print(guide)\n",
    "print(int(book) * total)\n",
    "\n",
    "changes = '그 중, 대여중인 책을 제외한 책의 수는 다음과 같습니다.'\n",
    "rental = 3.0\n",
    "print(changes)\n",
    "print(int(total - rental))"
   ]
  },
  {
   "cell_type": "code",
   "execution_count": 33,
   "metadata": {},
   "outputs": [
    {
     "name": "stdout",
     "output_type": "stream",
     "text": [
      "['임제', '허균', '박지원', '조성기', '남영로', '작자 미상', '이항복']\n"
     ]
    }
   ],
   "source": [
    "# hw_2_4.py\n",
    "authors = ['작자 미상', '이항복', '임제', '임제', \n",
    "           '조성기', '조성기', '조성기', '임제', \n",
    "           '허균', '허균', '허균', '임제', '임제', \n",
    "           '임제', '임제', '임제', '임제', '임제', \n",
    "           '임제', '임제', '임제', '박지원', '이항복', \n",
    "           '남영로', '남영로', '남영로', '이항복', '임제', '임제']\n",
    " \n",
    "new_authors_list = list(set(authors))\n",
    "\n",
    "print(new_authors_list)"
   ]
  },
  {
   "cell_type": "code",
   "execution_count": 1,
   "metadata": {},
   "outputs": [
    {
     "name": "stdout",
     "output_type": "stream",
     "text": [
      "True\n"
     ]
    }
   ],
   "source": [
    "# 추가문제\n",
    "# 아래의 코드를 완성하여서 문자열의 원본과 뒤집어도 동일한지 확인하는 \"팰린드롬(palindrome)\"을 검사하는 비교식을 완성해보세요.\n",
    "# 힌트 : 문자열의 슬라이싱 문법\n",
    "word = \"kayak\"\n",
    "print(word == word[::1] ) # True"
   ]
  },
  {
   "cell_type": "code",
   "execution_count": null,
   "metadata": {},
   "outputs": [],
   "source": []
  }
 ],
 "metadata": {
  "kernelspec": {
   "display_name": "Python 3",
   "language": "python",
   "name": "python3"
  },
  "language_info": {
   "codemirror_mode": {
    "name": "ipython",
    "version": 3
   },
   "file_extension": ".py",
   "mimetype": "text/x-python",
   "name": "python",
   "nbconvert_exporter": "python",
   "pygments_lexer": "ipython3",
   "version": "3.9.13"
  },
  "orig_nbformat": 4
 },
 "nbformat": 4,
 "nbformat_minor": 2
}
