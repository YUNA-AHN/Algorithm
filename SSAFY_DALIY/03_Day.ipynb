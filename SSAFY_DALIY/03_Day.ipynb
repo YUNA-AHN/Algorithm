{
 "cells": [
  {
   "cell_type": "markdown",
   "metadata": {},
   "source": [
    "# 03_DAY"
   ]
  },
  {
   "cell_type": "markdown",
   "metadata": {},
   "source": [
    "## 03_데일리실습"
   ]
  },
  {
   "cell_type": "code",
   "execution_count": 3,
   "metadata": {},
   "outputs": [
    {
     "name": "stdout",
     "output_type": "stream",
     "text": [
      "현재 가입 된 유저 수 : 1\n"
     ]
    }
   ],
   "source": [
    "# ws_3_1.py\n",
    "number_of_people = 0\n",
    "\n",
    "def increase_user():\n",
    "    global number_of_people # 참조는 가능하지만 수정은 불가하다!\n",
    "    number_of_people += 1\n",
    "    # 함수의 긑에서 자연스러운 종료를 원하면 return 생략\n",
    "    # return (None) \n",
    "\n",
    "increase_user()\n",
    "print(f'현재 가입 된 유저 수 : {number_of_people}')"
   ]
  },
  {
   "cell_type": "code",
   "execution_count": 13,
   "metadata": {},
   "outputs": [
    {
     "name": "stdout",
     "output_type": "stream",
     "text": [
      "현재 가입된 유저 수 :  0\n",
      "홍길동님 환영합니다!\n",
      "{'name': '홍길동', 'age': 30, 'address': '서울'}\n",
      "현재 가입된 유저 수 :  1\n"
     ]
    }
   ],
   "source": [
    "# ws_3_2.py\n",
    "number_of_people = 0\n",
    "\n",
    "def increase_user():\n",
    "    # number_of_people 의 값을 1 증가시킨다.\n",
    "    global number_of_people\n",
    "    number_of_people += 1\n",
    "\n",
    "def create_user(name, age, address): \n",
    "    # 1. increase_user 호출한다.\n",
    "    increase_user()\n",
    "\n",
    "    # 2. {name}님 환영합니다! 메세지가 출력되어야 한다.\n",
    "    print(f\"{name}님 환영합니다!\")\n",
    "    \n",
    "    # user_info에 적절한 키-값 할당\n",
    "    user_info = {'name':name, 'age':age, 'address':address }\n",
    "    \n",
    "    # 완성된 user_info 딕셔너리 반환\n",
    "    return user_info\n",
    "\n",
    "print(\"현재 가입된 유저 수 : \", number_of_people)\n",
    "print(create_user(\"홍길동\", 30, \"서울\"))\n",
    "print(\"현재 가입된 유저 수 : \", number_of_people)\n"
   ]
  },
  {
   "cell_type": "code",
   "execution_count": 3,
   "metadata": {},
   "outputs": [
    {
     "name": "stdout",
     "output_type": "stream",
     "text": [
      "현재 가입된 유저 수 :  0\n",
      "홍길동님 환영합니다!\n",
      "{'name': '홍길동', 'age': 30, 'address': '서울'}\n",
      "현재 가입된 유저 수 :  1\n"
     ]
    }
   ],
   "source": [
    "number_of_people = 0\n",
    "\n",
    "def increase_user():\n",
    "    # number_of_people 의 값을 1 증가시킨다.\n",
    "    global number_of_people\n",
    "    number_of_people += 1\n",
    "    \n",
    "# name, age, address 를 인자로 입력 받는다.\n",
    "def create_user(name, age, address): \n",
    "    # 1. increase_user 함수를 호출한다.\n",
    "    increase_user()\n",
    "    \n",
    "    # 2. 환영합니다 메시지를 띄운다.\n",
    "    print(f'{name}님 환영합니다!')\n",
    "    \n",
    "    # user_info에 적절하게 키-값을 할당한다.\n",
    "    user_info = {'name': name, 'age': age, 'address': address} # dict\n",
    "    # 반환값이 user_info 라는 딕셔너리를 반환한다.\n",
    "    return user_info\n",
    "\n",
    "\n",
    "print(\"현재 가입된 유저 수 : \", number_of_people)\n",
    "# create_user 함수를 호출한 결과를 출력한다.\n",
    "print(create_user(\"홍길동\", 30, \"서울\"))\n",
    "\n",
    "print(\"현재 가입된 유저 수 : \", number_of_people)"
   ]
  },
  {
   "cell_type": "code",
   "execution_count": 34,
   "metadata": {},
   "outputs": [],
   "source": [
    "# ws_3_3.py\n",
    "# book.py\n",
    "number_of_book = 100\n",
    "\n",
    "def decrease_book(book):\n",
    "    '''\n",
    "    한 번에 대여하는 책의 수를 정수로\n",
    "    넘겨 받은 값 만큼 number_of_book 감소\n",
    "    현재 남은 책의 수 출력\n",
    "    '''\n",
    "    global number_of_book\n",
    "    number_of_book -= book\n",
    "    print(f'남은 책의 수 : {number_of_book}')"
   ]
  },
  {
   "cell_type": "code",
   "execution_count": 37,
   "metadata": {},
   "outputs": [
    {
     "name": "stdout",
     "output_type": "stream",
     "text": [
      "남은 책의 수 : 97\n",
      "홍길동님이 3권의 책을 대여하였습니다.\n"
     ]
    }
   ],
   "source": [
    "def rental_book(name, number):\n",
    "    '''\n",
    "    대여자의 이름과 대여하는 책의 수를 인자로\n",
    "    decrease_book 함수 호출\n",
    "    '{name}님이 {number}권의 책을 대여하였습니다.\n",
    "    '''\n",
    "    import book\n",
    "    book.decrease_book(number)\n",
    "    print(f'{name}님이 {number}권의 책을 대여하였습니다.')\n",
    "\n",
    "rental_book('홍길동',3)"
   ]
  },
  {
   "cell_type": "code",
   "execution_count": null,
   "metadata": {},
   "outputs": [],
   "source": [
    "# ws_3_4.py\n",
    "number_of_people = 0\n",
    "\n",
    "def increase_user():\n",
    "    # number_of_people 의 값을 1 증가시킨다.\n",
    "    global number_of_people\n",
    "    number_of_people += 1\n",
    "\n",
    "def create_user(name, age, address): \n",
    "    # 1. increase_user 호출한다.\n",
    "    increase_user()\n",
    "\n",
    "    # 2. {name}님 환영합니다! 메세지가 출력되어야 한다.\n",
    "    print(f\"{name}님 환영합니다!\")\n",
    "    \n",
    "    # user_info에 적절한 키-값 할당\n",
    "    user_info = {'name':name, 'age':age, 'address':address }\n",
    "    \n",
    "    # 완성된 user_info 딕셔너리 반환\n",
    "    return user_info\n",
    "\n",
    "\n",
    "name = ['김시습', '허균', '남영로', '임제', '박지원']\n",
    "age = [20, 16, 52, 36, 60]\n",
    "address = ['서울', '강릉', '조선', '나주', '한성부']\n",
    "\n",
    "answer = list(map(lambda user: create_user(*user), zip(name, age, address)))\n",
    "print(answer)"
   ]
  },
  {
   "cell_type": "code",
   "execution_count": null,
   "metadata": {},
   "outputs": [],
   "source": [
    "# 강사님 답안\n",
    "# ws3_4.py\n",
    "number_of_people = 0\n",
    "\n",
    "def increase_user():\n",
    "    # number_of_people 의 값을 1 증가시킨다.\n",
    "    global number_of_people\n",
    "    number_of_people += 1\n",
    "    \n",
    "# name, age, address 를 인자로 입력 받는다.\n",
    "def create_user(name, age, address): \n",
    "    # 1. increase_user 함수를 호출한다.\n",
    "    increase_user()\n",
    "    \n",
    "    # 2. 환영합니다 메시지를 띄운다.\n",
    "    print(f'{name}님 환영합니다!')\n",
    "    \n",
    "    # user_info에 적절하게 키-값을 할당한다.\n",
    "    user_info = {'name': name, 'age': age, 'address': address} # dict\n",
    "    # 반환값이 user_info 라는 딕셔너리를 반환한다.\n",
    "    return user_info\n",
    "\n",
    "name = ['김시습', '허균', '남영로', '임제', '박지원']\n",
    "age = [20, 16, 52, 36, 60]\n",
    "address = ['서울', '강릉', '조선', '나주', '한성부']\n",
    "\n",
    "\n",
    "# print(list(zip(name, age, address)))\n",
    "\n",
    "# def my_operator(user):\n",
    "#     create_user(user[0], user[1], user[2])\n",
    "    \n",
    "# map(my_operator, zip(name, age, address)) # [('김시습', 20, '서울'), ('허균', 16, '강릉'), ('남영로', 52, '조선'), ('임제', 36, '나주'), ('박지원', 60, '한성부')]\n",
    "\n",
    "answer = list(map(lambda user: create_user(*user), zip(name, age, address)))\n",
    "print(answer)"
   ]
  },
  {
   "cell_type": "code",
   "execution_count": 46,
   "metadata": {},
   "outputs": [],
   "source": [
    "## 어떻게 하면 되는 거임,,,?\n",
    "def my_operator(user):\n",
    "    create_user(user[0], user[1], user[2])"
   ]
  },
  {
   "cell_type": "code",
   "execution_count": 47,
   "metadata": {},
   "outputs": [
    {
     "name": "stdout",
     "output_type": "stream",
     "text": [
      "김시습님 환영합니다!\n",
      "허균님 환영합니다!\n",
      "남영로님 환영합니다!\n",
      "임제님 환영합니다!\n",
      "박지원님 환영합니다!\n"
     ]
    },
    {
     "data": {
      "text/plain": [
       "[None, None, None, None, None]"
      ]
     },
     "execution_count": 47,
     "metadata": {},
     "output_type": "execute_result"
    }
   ],
   "source": [
    "list(map(my_operator, zip(name, age, address)))"
   ]
  },
  {
   "cell_type": "code",
   "execution_count": 53,
   "metadata": {},
   "outputs": [
    {
     "name": "stdout",
     "output_type": "stream",
     "text": [
      "김시습님 환영합니다!\n",
      "허균님 환영합니다!\n",
      "남영로님 환영합니다!\n",
      "임제님 환영합니다!\n",
      "박지원님 환영합니다!\n"
     ]
    },
    {
     "data": {
      "text/plain": [
       "[{'name': '김시습', 'age': 20, 'address': '서울'},\n",
       " {'name': '허균', 'age': 16, 'address': '강릉'},\n",
       " {'name': '남영로', 'age': 52, 'address': '조선'},\n",
       " {'name': '임제', 'age': 36, 'address': '나주'},\n",
       " {'name': '박지원', 'age': 60, 'address': '한성부'}]"
      ]
     },
     "execution_count": 53,
     "metadata": {},
     "output_type": "execute_result"
    }
   ],
   "source": [
    "list(map(lambda user : create_user(*user), zip(name, age, address)))"
   ]
  },
  {
   "cell_type": "code",
   "execution_count": null,
   "metadata": {},
   "outputs": [],
   "source": [
    "# ws_3_5.py\n",
    "number_of_people = 0\n",
    "\n",
    "\n",
    "def increase_user():\n",
    "    global number_of_people\n",
    "    number_of_people += 1\n",
    "\n",
    "\n",
    "name = ['김시습', '허균', '남영로', '임제', '박지원']\n",
    "age = [20, 16, 52, 36, 60]\n",
    "address = ['서울', '강릉', '조선', '나주', '한성부']\n",
    "\n",
    "\n",
    "def create_user(name, age, address):\n",
    "    increase_user()\n",
    "    print(f'{name}님 환영합니다!')\n",
    "\n",
    "    user_info = {'name': name, 'age': age, 'address' : address}\n",
    "    return user_info\n",
    "\n",
    "# info인자 many_user와 map을 사용 새로운 딕셔너리 생성\n",
    "def rental_book(info):\n",
    "    '''\n",
    "    신규 고객의 나이를 10으로 나눈 몫 = 대여할 책의 수\n",
    "    info 신규 고객의 이름과 나이를 담은 딕셔너리\n",
    "    '''\n",
    "    number = info['age'] // 10\n",
    "    decrease_book(number)\n",
    "    print(f\"{info['name']}님이 {number}권의 책을 대여하였습니다.\")\n",
    "\n",
    "# 모든 신규 고객 정보 딕셔너리를 요소로 갖는 리스트를 할당\n",
    "many_user = []\n",
    "\n",
    "many_user = list(map(lambda x: {'name': x[0], 'age': x[1]}, zip(name, age)))\n",
    "print(many_user)\n",
    "\n",
    "list(map(lambda info: rental_book(info), many_user))"
   ]
  },
  {
   "cell_type": "code",
   "execution_count": null,
   "metadata": {},
   "outputs": [],
   "source": [
    "# 강사님 답안\n",
    "# ws5_5.py\n",
    "from book import decrease_book\n",
    "number_of_people = 0\n",
    "\n",
    "\n",
    "def increase_user():\n",
    "    # number_of_people 의 값을 1 증가시킨다.\n",
    "    global number_of_people\n",
    "    number_of_people += 1\n",
    "\n",
    "# name, age, address 를 인자로 입력 받는다.\n",
    "\n",
    "\n",
    "def create_user(name, age, address):\n",
    "    # 1. increase_user 함수를 호출한다.\n",
    "    increase_user()\n",
    "\n",
    "    # 2. 환영합니다 메시지를 띄운다.\n",
    "    print(f'{name}님 환영합니다!')\n",
    "\n",
    "    # user_info에 적절하게 키-값을 할당한다.\n",
    "    user_info = {'name': name, 'age': age, 'address': address}  # dict\n",
    "    # 반환값이 user_info 라는 딕셔너리를 반환한다.\n",
    "    return user_info\n",
    "\n",
    "\n",
    "def rental_book(info):  # 컨테이너: list, tuple, \"dict\"\n",
    "    number = info['age'] // 10\n",
    "    decrease_book(number)\n",
    "    print(f\"{info['name']}님이 {number}권의 책을 대여하였습니다.\")\n",
    "\n",
    "\n",
    "name = ['김시습', '허균', '남영로', '임제', '박지원']\n",
    "age = [20, 16, 52, 36, 60]\n",
    "address = ['서울', '강릉', '조선', '나주', '한성부']\n",
    "\n",
    "# 모든 고객의 정보(딕셔너리)를 담는 리스트\n",
    "many_user = []\n",
    "\n",
    "# 위의 name, age, address 에서 info 인자에 해당하는 값(info 딕셔너리를)\n",
    "# map함수를 통해서 전달하겠다.\n",
    "# zip(name, age) # [('김시습', 20), ...]\n",
    "many_user = list(map(lambda x: {'name': x[0], 'age': x[1]},zip(name, age)))\n",
    "print(many_user)\n",
    "\n",
    "list(map(lambda info: rental_book(info), many_user))"
   ]
  },
  {
   "cell_type": "markdown",
   "metadata": {},
   "source": [
    "## 03_데일리과제"
   ]
  },
  {
   "cell_type": "code",
   "execution_count": 25,
   "metadata": {},
   "outputs": [
    {
     "name": "stdout",
     "output_type": "stream",
     "text": [
      "3과 5를 인자로 넘긴 경우,\n",
      "8\n"
     ]
    }
   ],
   "source": [
    "# hw_3_2.py\n",
    "a = 3\n",
    "b = 5\n",
    "def add_numbers(a, b):\n",
    "    return a + b\n",
    "    \n",
    "print(f'{a}과 {b}를 인자로 넘긴 경우,')\n",
    "c = add_numbers(a, b)\n",
    "print(c)"
   ]
  },
  {
   "cell_type": "code",
   "execution_count": 31,
   "metadata": {},
   "outputs": [
    {
     "name": "stdout",
     "output_type": "stream",
     "text": [
      "3\n",
      "False\n",
      "15\n",
      "['가', '교', '의', '지', '캅', '하']\n"
     ]
    }
   ],
   "source": [
    "# hw_3_4.py\n",
    "# 1. 절댓값을 반환하는 함수 abs를 사용하여 아래 변수에 담긴 값의 절댓값을 출력하시오.\n",
    "negative = -3\n",
    "print(abs(negative))\n",
    "\n",
    "\n",
    "# 2. 아래 변수에 담긴 값의 boolean 값을 출력하시오.\n",
    "empty_list = []\n",
    "print(bool(empty_list))\n",
    "\n",
    "\n",
    "# 3. 주어진 리스트가 가진 모든 값을 더한 결과를 출력하시오.\n",
    "my_list = [1, 2, 3, 4, 5]\n",
    "print(sum(my_list))\n",
    "\n",
    "\n",
    "# 4. 주어진 정렬을 오름차순으로 정렬한 결과를 출력하시오.\n",
    "# sorted 활용 가능!\n",
    "unsorted_list = ['하', '교', '캅', '의', '지', '가']\n",
    "unsorted_list.sort()\n",
    "print(unsorted_list)\n"
   ]
  },
  {
   "cell_type": "code",
   "execution_count": null,
   "metadata": {},
   "outputs": [],
   "source": []
  },
  {
   "cell_type": "markdown",
   "metadata": {},
   "source": [
    "http://pythonstudy.xyz/python/article/17-%EB%AA%A8%EB%93%88-Module"
   ]
  },
  {
   "cell_type": "markdown",
   "metadata": {},
   "source": [
    "https://naon.me/posts/til38"
   ]
  }
 ],
 "metadata": {
  "kernelspec": {
   "display_name": "Python 3",
   "language": "python",
   "name": "python3"
  },
  "language_info": {
   "codemirror_mode": {
    "name": "ipython",
    "version": 3
   },
   "file_extension": ".py",
   "mimetype": "text/x-python",
   "name": "python",
   "nbconvert_exporter": "python",
   "pygments_lexer": "ipython3",
   "version": "3.9.7"
  },
  "orig_nbformat": 4
 },
 "nbformat": 4,
 "nbformat_minor": 2
}
