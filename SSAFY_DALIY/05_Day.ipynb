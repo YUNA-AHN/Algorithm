{
 "cells": [
  {
   "cell_type": "markdown",
   "metadata": {},
   "source": [
    "# 05_Day"
   ]
  },
  {
   "cell_type": "markdown",
   "metadata": {},
   "source": [
    "# 05_데일리실습"
   ]
  },
  {
   "cell_type": "code",
   "execution_count": 5,
   "metadata": {},
   "outputs": [
    {
     "name": "stdout",
     "output_type": "stream",
     "text": [
      "!dlroW ,olleH\n"
     ]
    }
   ],
   "source": [
    "# ws_5_1.py\n",
    "def reverse_string(text):\n",
    "    str_reverse = ''\n",
    "    for char in text:\n",
    "        str_reverse = char + str_reverse\n",
    "    return str_reverse\n",
    "\n",
    "result = reverse_string(\"Hello, World!\")\n",
    "print(result)"
   ]
  },
  {
   "cell_type": "code",
   "execution_count": 6,
   "metadata": {},
   "outputs": [
    {
     "name": "stdout",
     "output_type": "stream",
     "text": [
      "[1, 2, 3, 4, 5]\n"
     ]
    }
   ],
   "source": [
    "# ws_5_2.py\n",
    "def remove_duplicates(my_list):\n",
    "    new_lst = []\n",
    "    for num in my_list:\n",
    "        if num in new_lst:\n",
    "            continue\n",
    "        new_lst.append(num)\n",
    "    return new_lst\n",
    "\n",
    "result = remove_duplicates([1, 2, 2, 3, 4, 4, 5])\n",
    "print(result)\n"
   ]
  },
  {
   "cell_type": "code",
   "execution_count": 8,
   "metadata": {},
   "outputs": [
    {
     "name": "stdout",
     "output_type": "stream",
     "text": [
      "[1, 2, 3, 4, 5]\n"
     ]
    }
   ],
   "source": [
    "def remove_duplicates(my_list):\n",
    "    new_lst = list(set(my_list))\n",
    "    return new_lst\n",
    "\n",
    "result = remove_duplicates([1, 2, 2, 3, 4, 4, 5])\n",
    "print(result)"
   ]
  },
  {
   "cell_type": "code",
   "execution_count": 10,
   "metadata": {},
   "outputs": [
    {
     "name": "stdout",
     "output_type": "stream",
     "text": [
      "[1, 2, 3, 5, 8]\n"
     ]
    }
   ],
   "source": [
    "# ws_5_3.py : 이런 느낌으로 11개 정도 나올것이다 !\n",
    "def sort_tuple(my_tuple):\n",
    "  new_tuple = tuple(sorted(my_tuple))\n",
    "  return new_tuple\n",
    "\n",
    "result = sort_tuple((5, 2, 8, 1, 3))\n",
    "print(result)"
   ]
  },
  {
   "cell_type": "code",
   "execution_count": null,
   "metadata": {},
   "outputs": [],
   "source": [
    "# 강사님 ver\n",
    "def sort_tuple(x):\n",
    "  arr = list(x) # 튜플 -> 리스트\n",
    "  # x를 정렬한다\n",
    "  arr.sort()\n",
    "  # 정렬한 X를 반환한다\n",
    "  new_tuple = tuple\n",
    "  return new_tuple(arr) # 형변환\n",
    "\n",
    "result = sort_tuple((5, 2, 8, 1, 3))\n",
    "print(result)"
   ]
  },
  {
   "cell_type": "code",
   "execution_count": 8,
   "metadata": {},
   "outputs": [
    {
     "name": "stdout",
     "output_type": "stream",
     "text": [
      "Hello, World!\n"
     ]
    }
   ],
   "source": [
    "# ws_5_4.py\n",
    "def capitalize_words(text):\n",
    "    new_text = text.title()\n",
    "    return new_text\n",
    "\n",
    "result = capitalize_words(\"hello, world!\")\n",
    "print(result)"
   ]
  },
  {
   "cell_type": "code",
   "execution_count": 12,
   "metadata": {},
   "outputs": [
    {
     "name": "stdout",
     "output_type": "stream",
     "text": [
      "[2, 4, 6, 8, 10]\n"
     ]
    }
   ],
   "source": [
    "# ws_5_5.py\n",
    "def even_elements(numbers):\n",
    "    res = []\n",
    "    for i in range(len(my_list)):\n",
    "        num = my_list.pop(0)\n",
    "        if num % 2 == 0:\n",
    "            res.extend([num])\n",
    "    return res\n",
    "    \n",
    "my_list = [1, 2, 3, 4, 5, 6, 7, 8, 9, 10]\n",
    "result = even_elements(my_list)\n",
    "print(result)"
   ]
  },
  {
   "cell_type": "markdown",
   "metadata": {},
   "source": [
    "# 05_데일리과제"
   ]
  },
  {
   "cell_type": "code",
   "execution_count": 15,
   "metadata": {},
   "outputs": [
    {
     "name": "stdout",
     "output_type": "stream",
     "text": [
      "2\n"
     ]
    }
   ],
   "source": [
    "# hw_5_2.py\n",
    "def count_character(text, char):\n",
    "    result = 0\n",
    "    for chr in text:\n",
    "        if chr == char:\n",
    "            result += 1\n",
    "    return result\n",
    "            \n",
    "result = count_character(\"Hello, World!\", \"o\")\n",
    "print(result) # 2"
   ]
  },
  {
   "cell_type": "code",
   "execution_count": 2,
   "metadata": {},
   "outputs": [
    {
     "name": "stdout",
     "output_type": "stream",
     "text": [
      "(1, 7)\n"
     ]
    }
   ],
   "source": [
    "# hw_5_4.py\n",
    "def find_min_max(lst):\n",
    "    mn = min(lst)\n",
    "    mx = max(lst)\n",
    "    min_max = (mn, mx)\n",
    "    return min_max\n",
    "\n",
    "result = find_min_max([3, 1, 7, 2, 5])\n",
    "print(result)"
   ]
  },
  {
   "cell_type": "code",
   "execution_count": null,
   "metadata": {},
   "outputs": [],
   "source": []
  }
 ],
 "metadata": {
  "kernelspec": {
   "display_name": "Python 3",
   "language": "python",
   "name": "python3"
  },
  "language_info": {
   "codemirror_mode": {
    "name": "ipython",
    "version": 3
   },
   "file_extension": ".py",
   "mimetype": "text/x-python",
   "name": "python",
   "nbconvert_exporter": "python",
   "pygments_lexer": "ipython3",
   "version": "3.9.13"
  },
  "orig_nbformat": 4
 },
 "nbformat": 4,
 "nbformat_minor": 2
}
