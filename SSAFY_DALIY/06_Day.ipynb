{
 "cells": [
  {
   "cell_type": "markdown",
   "metadata": {},
   "source": [
    "# 06_Day"
   ]
  },
  {
   "cell_type": "markdown",
   "metadata": {},
   "source": [
    "# 06_데일리실습"
   ]
  },
  {
   "cell_type": "code",
   "execution_count": 3,
   "metadata": {},
   "outputs": [
    {
     "name": "stdout",
     "output_type": "stream",
     "text": [
      "{1, 2, 3, 4, 5}\n"
     ]
    }
   ],
   "source": [
    "# ws_6_1.py\n",
    "def union_sets(set1, set2):\n",
    "    res = set1 | set2\n",
    "    return res\n",
    "\n",
    "result = union_sets({1, 2, 3}, {3, 4, 5})\n",
    "print(result)"
   ]
  },
  {
   "cell_type": "code",
   "execution_count": 5,
   "metadata": {},
   "outputs": [
    {
     "name": "stdout",
     "output_type": "stream",
     "text": [
      "Alice\n"
     ]
    }
   ],
   "source": [
    "# ws_6_2.py\n",
    "def get_value_from_dict(my_dict, name):\n",
    "    res = my_dict.get(name)\n",
    "    return  res\n",
    "\n",
    "my_dict = {'name': 'Alice', 'age': 25}\n",
    "result = get_value_from_dict(my_dict, 'name')\n",
    "print(result) # Alice\n"
   ]
  },
  {
   "cell_type": "code",
   "execution_count": 10,
   "metadata": {},
   "outputs": [
    {
     "name": "stdout",
     "output_type": "stream",
     "text": [
      "{3}\n"
     ]
    }
   ],
   "source": [
    "# ws_6_3.py\n",
    "def intersection_sets(set1, set2):\n",
    "    res = set1 & set2\n",
    "    return res\n",
    "\n",
    "result = intersection_sets({1, 2, 3}, {3, 4, 5})\n",
    "print(result) # {3}"
   ]
  },
  {
   "cell_type": "code",
   "execution_count": 12,
   "metadata": {},
   "outputs": [
    {
     "name": "stdout",
     "output_type": "stream",
     "text": [
      "['name', 'age']\n"
     ]
    }
   ],
   "source": [
    "# ws_6_4.py\n",
    "def get_keys_from_dict(my_dict):\n",
    "    res = list(my_dict.keys())\n",
    "    return res\n",
    "\n",
    "my_dict = {'name': 'Alice', 'age': 25}\n",
    "result = get_keys_from_dict(my_dict)\n",
    "print(result)"
   ]
  },
  {
   "cell_type": "code",
   "execution_count": 13,
   "metadata": {},
   "outputs": [
    {
     "name": "stdout",
     "output_type": "stream",
     "text": [
      "{1, 2}\n"
     ]
    }
   ],
   "source": [
    "# ws_6_5.py\n",
    "def difference_sets(set1, set2):\n",
    "    res = set1 - set2\n",
    "    return res\n",
    "\n",
    "result = difference_sets({1, 2, 3}, {3, 4, 5})\n",
    "print(result)"
   ]
  },
  {
   "cell_type": "markdown",
   "metadata": {},
   "source": [
    "# 06_데일리과제"
   ]
  },
  {
   "cell_type": "code",
   "execution_count": 14,
   "metadata": {},
   "outputs": [
    {
     "name": "stdout",
     "output_type": "stream",
     "text": [
      "{1, 2, 3, 4, 5}\n"
     ]
    }
   ],
   "source": [
    "# hw_6_2.py\n",
    "def remove_duplicates_to_set(my_lst):\n",
    "    new_set = set(my_lst)\n",
    "    return new_set\n",
    "\t\t\n",
    "result = remove_duplicates_to_set([1, 2, 2, 3, 4, 4, 5])\n",
    "print(result)\n"
   ]
  },
  {
   "cell_type": "code",
   "execution_count": 15,
   "metadata": {},
   "outputs": [
    {
     "name": "stdout",
     "output_type": "stream",
     "text": [
      "{'name': 'Alice', 'age': 25, 'country': 'USA'}\n"
     ]
    }
   ],
   "source": [
    "# hw_6_4.py\n",
    "def add_item_to_dict(dictionary, key, value):\n",
    "    new_dict = dictionary.copy()\n",
    "    new_dict[key] = value\n",
    "    return new_dict\n",
    "\n",
    "my_dict = {'name': 'Alice', 'age': 25}\n",
    "result = add_item_to_dict(my_dict, 'country', 'USA')\n",
    "print(result)\n"
   ]
  },
  {
   "cell_type": "code",
   "execution_count": null,
   "metadata": {},
   "outputs": [],
   "source": []
  }
 ],
 "metadata": {
  "kernelspec": {
   "display_name": "Python 3",
   "language": "python",
   "name": "python3"
  },
  "language_info": {
   "codemirror_mode": {
    "name": "ipython",
    "version": 3
   },
   "file_extension": ".py",
   "mimetype": "text/x-python",
   "name": "python",
   "nbconvert_exporter": "python",
   "pygments_lexer": "ipython3",
   "version": "3.9.13"
  },
  "orig_nbformat": 4
 },
 "nbformat": 4,
 "nbformat_minor": 2
}
