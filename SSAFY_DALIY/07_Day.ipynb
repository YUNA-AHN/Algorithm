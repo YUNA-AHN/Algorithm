{
 "cells": [
  {
   "cell_type": "markdown",
   "metadata": {},
   "source": [
    "# 07_Day"
   ]
  },
  {
   "cell_type": "markdown",
   "metadata": {},
   "source": [
    "# 07_데일리실습"
   ]
  },
  {
   "cell_type": "code",
   "execution_count": 3,
   "metadata": {},
   "outputs": [
    {
     "name": "stdout",
     "output_type": "stream",
     "text": [
      "5 3\n"
     ]
    }
   ],
   "source": [
    "# ws_7_1.py\n",
    "class Shape:\n",
    "   # 초기화 메서드\n",
    "   def __init__(self, width, height):\n",
    "       # 인스턴스 메서드 (속성)값을 접근하려면\n",
    "       # self 키워드를 통해서 접근을 해야한다.\n",
    "       # 인스턴스 변수\n",
    "       self.width = width # 가로\n",
    "       self.height = height # 세로\n",
    "       \n",
    "\n",
    "shape1 = Shape(5, 3)\n",
    "print(shape1.width, shape1.height)"
   ]
  },
  {
   "cell_type": "code",
   "execution_count": 5,
   "metadata": {},
   "outputs": [
    {
     "name": "stdout",
     "output_type": "stream",
     "text": [
      "15\n"
     ]
    }
   ],
   "source": [
    "# ws_7_2.py\n",
    "class Shape:\n",
    "    def __init__(self, width, height):\n",
    "       self.width = width # 가로\n",
    "       self.height = height # 세로\n",
    "\n",
    "    # 넓이 구하기\n",
    "    def calculate_area(self):\n",
    "        return self.width * self.height\n",
    "       \n",
    "shape1 = Shape(5, 3)\n",
    "area1 = shape1.calculate_area()\n",
    "print(area1)\n"
   ]
  },
  {
   "cell_type": "code",
   "execution_count": 6,
   "metadata": {},
   "outputs": [
    {
     "name": "stdout",
     "output_type": "stream",
     "text": [
      "16\n"
     ]
    }
   ],
   "source": [
    "# ws_7_3.py\n",
    "class Shape:\n",
    "    def __init__(self, width, height):\n",
    "       self.width = width # 가로\n",
    "       self.height = height # 세로\n",
    "\n",
    "    # 둘레 구하기\n",
    "    def calculate_perimeter(self):\n",
    "        return (self.width + self.height) * 2\n",
    "\n",
    "shape1 = Shape(5, 3)\n",
    "perimeter1 = shape1.calculate_perimeter()\n",
    "print(perimeter1)\n"
   ]
  },
  {
   "cell_type": "code",
   "execution_count": 27,
   "metadata": {},
   "outputs": [
    {
     "name": "stdout",
     "output_type": "stream",
     "text": [
      "Width: 5\n",
      "Height: 3\n",
      "Area: 15\n",
      "Perimeter: 16\n"
     ]
    }
   ],
   "source": [
    "# ws_7_4.py\n",
    "class Shape:\n",
    "   def __init__(self, width, height):\n",
    "      self.width = width\n",
    "      self.height = height\n",
    "      \n",
    "   def print_info(self):\n",
    "      '''self.area = self.width * self.height\n",
    "      self.perimeter = (self.width + self.height) * 2'''\n",
    "      value_dict = {\n",
    "         'Width' : self.width,\n",
    "         'Height' : self.height,\n",
    "         'Area' : self.width * self.height,\n",
    "         'Perimeter' : (self.width + self.height) * 2\n",
    "      }\n",
    "      for key, value in value_dict.items():\n",
    "         print(f'{key}: {value}')\n",
    "\n",
    "shape1 = Shape(5, 3)\n",
    "shape1.print_info()\n"
   ]
  },
  {
   "cell_type": "code",
   "execution_count": 28,
   "metadata": {},
   "outputs": [
    {
     "name": "stdout",
     "output_type": "stream",
     "text": [
      "Width: 5\n",
      "Height: 3\n",
      "Width: 15\n",
      "Width: 16\n"
     ]
    }
   ],
   "source": [
    "class Shape:\n",
    "   def __init__(self, width, height):\n",
    "      self.width = width\n",
    "      self.height = height\n",
    "   \n",
    "   def calculate_area(self):\n",
    "        return self.width * self.height\n",
    "     \n",
    "   def calculate_perimeter(self):\n",
    "        return (self.width + self.height) * 2\n",
    "      \n",
    "   def print_info(self):\n",
    "      print(f'Width: {self.width}')\n",
    "      print(f'Height: {self.height}')\n",
    "      print(f'Width: {self.calculate_area()}')\n",
    "      print(f'Width: {self.calculate_perimeter()}')\n",
    "\n",
    "shape1 = Shape(5, 3)\n",
    "shape1.print_info()\n"
   ]
  },
  {
   "cell_type": "code",
   "execution_count": 30,
   "metadata": {},
   "outputs": [
    {
     "name": "stdout",
     "output_type": "stream",
     "text": [
      "Shape: width=5, height=3\n"
     ]
    }
   ],
   "source": [
    "# ws_7_5.py\n",
    "class Shape:\n",
    "   def __init__(self, width, height):\n",
    "      self.width = width\n",
    "      self.height = height\n",
    "      \n",
    "   def __str__(self):\n",
    "      # 해당 객체의 속성을 문자열로 반환\n",
    "      return f'Shape: width={self.width}, height={self.height}'\n",
    "\n",
    "shape1 = Shape(5, 3)\n",
    "print(shape1)\n"
   ]
  },
  {
   "cell_type": "markdown",
   "metadata": {},
   "source": [
    "# 07_데일리과제"
   ]
  },
  {
   "cell_type": "code",
   "execution_count": 21,
   "metadata": {},
   "outputs": [
    {
     "name": "stdout",
     "output_type": "stream",
     "text": [
      "Hello\n",
      "Hello\n",
      "Hello\n",
      "\n"
     ]
    }
   ],
   "source": [
    "# hw_7_2.py\n",
    "class StringRepeater:\n",
    "    @staticmethod\n",
    "    def repeat_string(times, text):\n",
    "        return (text+'\\n')*times\n",
    "\n",
    "repeater1 = StringRepeater()\n",
    "print(repeater1.repeat_string(3, \"Hello\"))"
   ]
  },
  {
   "cell_type": "code",
   "execution_count": 22,
   "metadata": {},
   "outputs": [
    {
     "name": "stdout",
     "output_type": "stream",
     "text": [
      "Hello\n",
      "Hello\n",
      "Hello\n",
      "\n"
     ]
    }
   ],
   "source": [
    "class StringRepeater:\n",
    "    @staticmethod\n",
    "    def repeat_string(times, text):\n",
    "        print((text+'\\n')*times)\n",
    "\n",
    "repeater1 = StringRepeater()\n",
    "repeater1.repeat_string(3, \"Hello\")"
   ]
  },
  {
   "cell_type": "code",
   "execution_count": 17,
   "metadata": {},
   "outputs": [
    {
     "name": "stdout",
     "output_type": "stream",
     "text": [
      "제 이름은 Alice 이고, 저는 25 살 입니다.\n",
      "1\n"
     ]
    }
   ],
   "source": [
    "# hw_7_4.py\n",
    "class Person:\n",
    "   number_of_people = 0\n",
    "   \n",
    "   def __init__(self, name, age):\n",
    "      self.name = name\n",
    "      self.age = age\n",
    "      Person.number_of_people += 1\n",
    "   \n",
    "   def introduce(self):\n",
    "      return f'제 이름은 {self.name} 이고, 저는 {self.age} 살 입니다.'\n",
    "\n",
    "\n",
    "person1 = Person(\"Alice\", 25)\n",
    "print(person1.introduce())\n",
    "print(Person.number_of_people)"
   ]
  },
  {
   "cell_type": "code",
   "execution_count": null,
   "metadata": {},
   "outputs": [],
   "source": []
  }
 ],
 "metadata": {
  "kernelspec": {
   "display_name": "Python 3",
   "language": "python",
   "name": "python3"
  },
  "language_info": {
   "codemirror_mode": {
    "name": "ipython",
    "version": 3
   },
   "file_extension": ".py",
   "mimetype": "text/x-python",
   "name": "python",
   "nbconvert_exporter": "python",
   "pygments_lexer": "ipython3",
   "version": "3.9.13"
  },
  "orig_nbformat": 4
 },
 "nbformat": 4,
 "nbformat_minor": 2
}
