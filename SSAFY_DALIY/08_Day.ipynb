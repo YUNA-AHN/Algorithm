{
 "cells": [
  {
   "cell_type": "markdown",
   "metadata": {},
   "source": [
    "# 08_Day"
   ]
  },
  {
   "cell_type": "markdown",
   "metadata": {},
   "source": [
    "# 08_데일리실습"
   ]
  },
  {
   "cell_type": "code",
   "execution_count": 51,
   "metadata": {},
   "outputs": [
    {
     "name": "stdout",
     "output_type": "stream",
     "text": [
      "동물의 수는 1마리 입니다.\n",
      "동물의 수는 2마리 입니다.\n"
     ]
    }
   ],
   "source": [
    "# ws_8_1.py\n",
    "class Animal:\n",
    "    num_of_animal = 0\n",
    "    \n",
    "    def __init__(self):\n",
    "        Animal.num_of_animal += 1\n",
    "\n",
    "\n",
    "class Dog(Animal):\n",
    "    def __init__(self):\n",
    "        super().__init__()\n",
    "\n",
    "\n",
    "class Cat(Animal):\n",
    "    def __init__(self):\n",
    "        super().__init__()\n",
    "\n",
    "\n",
    "class Pet(Dog, Cat):\n",
    "    @classmethod\n",
    "    def access_num_of_animal(cls):\n",
    "        return f'동물의 수는 {cls.num_of_animal}마리 입니다.'\n",
    "\n",
    "dog = Dog()\n",
    "print(Pet.access_num_of_animal())\n",
    "cat = Cat()\n",
    "print(Pet.access_num_of_animal())\n"
   ]
  },
  {
   "cell_type": "code",
   "execution_count": 60,
   "metadata": {},
   "outputs": [
    {
     "name": "stdout",
     "output_type": "stream",
     "text": [
      "동물의 수는 1마리 입니다.\n",
      "동물의 수는 2마리 입니다.\n"
     ]
    }
   ],
   "source": [
    "class Animal:\n",
    "    num_of_animal = 0\n",
    "    \n",
    "    def __init__(self):\n",
    "        Animal.num_of_animal += 1\n",
    "\n",
    "\n",
    "class Dog(Animal):\n",
    "    pass\n",
    "\n",
    "\n",
    "class Cat(Animal):\n",
    "    pass\n",
    "\n",
    "class Pet(Dog, Cat):\n",
    "    @classmethod\n",
    "    def access_num_of_animal(cls):\n",
    "        return f'동물의 수는 {cls.num_of_animal}마리 입니다.'\n",
    "\n",
    "dog = Dog()\n",
    "print(Pet.access_num_of_animal())\n",
    "cat = Cat()\n",
    "print(Pet.access_num_of_animal())"
   ]
  },
  {
   "cell_type": "code",
   "execution_count": 49,
   "metadata": {},
   "outputs": [
    {
     "name": "stdout",
     "output_type": "stream",
     "text": [
      "동물의 수는 1마리 입니다.\n",
      "동물의 수는 2마리 입니다.\n"
     ]
    }
   ],
   "source": [
    "class Animal:\n",
    "    num_of_animal = 0 # 클래스 변수\n",
    "    \n",
    "    def __init__(self):\n",
    "        self.num_of_animal += 1\n",
    "\n",
    "\n",
    "class Dog(Animal):\n",
    "    # 인스턴스가 생성될 때 (초기화)\n",
    "    def __init__(self):\n",
    "        # self.num_of_animal += 1\n",
    "        # super().num_of_animal += 1\n",
    "        Animal.num_of_animal += 1\n",
    "\n",
    "\n",
    "class Cat(Animal):\n",
    "    def __init__(self):\n",
    "        # self.num_of_animal += 1\n",
    "        # super().num_of_animal += 1\n",
    "        Animal.num_of_animal += 1\n",
    "\n",
    "\n",
    "class Pet(Dog, Cat):\n",
    "    @classmethod\n",
    "    def access_num_of_animal(cls):\n",
    "        return f'동물의 수는 {cls.num_of_animal}마리 입니다.'\n",
    "\n",
    "dog = Dog()\n",
    "print(Pet.access_num_of_animal())\n",
    "cat = Cat()\n",
    "print(Pet.access_num_of_animal())\n"
   ]
  },
  {
   "cell_type": "code",
   "execution_count": 52,
   "metadata": {},
   "outputs": [
    {
     "name": "stdout",
     "output_type": "stream",
     "text": [
      "멍멍!\n"
     ]
    }
   ],
   "source": [
    "# ws_8_2.py\n",
    "class Animal:\n",
    "    num_of_animal = 0\n",
    "    \n",
    "    def __init__(self):\n",
    "        Animal.num_of_animal += 1\n",
    "\n",
    "\n",
    "class Dog(Animal):\n",
    "    def __init__(self):\n",
    "        super().__init__()\n",
    "        \n",
    "    def bark(self):\n",
    "        return '멍멍!'\n",
    "    \n",
    "dog = Dog()\n",
    "print(dog.bark())"
   ]
  },
  {
   "cell_type": "code",
   "execution_count": 53,
   "metadata": {},
   "outputs": [
    {
     "data": {
      "text/plain": [
       "'야옹!'"
      ]
     },
     "execution_count": 53,
     "metadata": {},
     "output_type": "execute_result"
    }
   ],
   "source": [
    "# ws_8_3.py\n",
    "class Animal:\n",
    "    num_of_animal = 0\n",
    "    \n",
    "    def __init__(self):\n",
    "        Animal.num_of_animal += 1\n",
    "        \n",
    "        \n",
    "class Cat(Animal):\n",
    "    def __init__(self):\n",
    "        super().__init__()\n",
    "        \n",
    "    def meow(self):\n",
    "        return '야옹!'\n",
    "\n",
    "cat1 = Cat()\n",
    "cat1.meow()\n"
   ]
  },
  {
   "cell_type": "code",
   "execution_count": 86,
   "metadata": {},
   "outputs": [],
   "source": [
    "# ws_8_4.py\n",
    "class Animal:\n",
    "    num_of_animal = 0\n",
    "    \n",
    "    def __init__(self):\n",
    "        Animal.num_of_animal += 1\n",
    "\n",
    "\n",
    "class Dog(Animal):\n",
    "    def bark(self):\n",
    "        return '멍멍!'\n",
    "    \n",
    "class Cat(Animal):\n",
    "    def meow(self):\n",
    "        return '야옹!'\n",
    "\n",
    "class Pet(Dog, Cat):\n",
    "    def __init__(self, sound):\n",
    "        super().__init__()\n",
    "        self.sound = sound\n",
    "        \n",
    "    @classmethod\n",
    "    def access_num_of_animal(cls):\n",
    "        return f'동물의 수는 {cls.num_of_animal}마리 입니다.'\n",
    "        \n",
    "    def make_sound(self):\n",
    "        print(self.sound)\n",
    "    \n",
    "    def play(self):\n",
    "        print('애완동물과 놀기')"
   ]
  },
  {
   "cell_type": "code",
   "execution_count": 92,
   "metadata": {},
   "outputs": [
    {
     "name": "stdout",
     "output_type": "stream",
     "text": [
      "그르르\n",
      "멍멍!\n",
      "야옹!\n",
      "애완동물과 놀기\n"
     ]
    }
   ],
   "source": [
    "pet1 = Pet(\"그르르\")\n",
    "pet1.make_sound()\n",
    "print(pet1.bark())\n",
    "print(pet1.meow())\n",
    "pet1.play()"
   ]
  },
  {
   "cell_type": "code",
   "execution_count": 95,
   "metadata": {},
   "outputs": [
    {
     "name": "stdout",
     "output_type": "stream",
     "text": [
      "애완동물은 멍멍 소리를 냅니다.\n",
      "애완동물은 야옹 소리를 냅니다.\n"
     ]
    }
   ],
   "source": [
    "# ws_8_5.py\n",
    "class Animal:\n",
    "    num_of_animal = 0\n",
    "    \n",
    "    def __init__(self):\n",
    "        Animal.num_of_animal += 1\n",
    "\n",
    "class Dog(Animal):\n",
    "    sound = '멍멍'\n",
    "    \n",
    "class Cat(Animal):\n",
    "    sound = '야옹'\n",
    "\n",
    "class Pet(Dog, Cat):\n",
    "    def __str__(self):\n",
    "        return f'애완동물은 {self.sound} 소리를 냅니다.'\n",
    "\n",
    "pet1 = Pet()\n",
    "print(pet1)\n",
    "\n",
    "class Pet(Cat, Dog):\n",
    "    def __str__(self):\n",
    "        return f'애완동물은 {self.sound} 소리를 냅니다.'\n",
    "\n",
    "pet2 = Pet()\n",
    "print(pet2)"
   ]
  },
  {
   "cell_type": "code",
   "execution_count": 85,
   "metadata": {},
   "outputs": [
    {
     "name": "stdout",
     "output_type": "stream",
     "text": [
      "Animal2의 생성자 호출\n",
      "Dog의 생성자 호출\n",
      "Animal1의 생성자 호출\n",
      "Cat의 생성자 호출\n",
      "Pet의 생성자 호출\n",
      "1\n",
      "2\n",
      "3\n",
      "4\n",
      "5\n"
     ]
    }
   ],
   "source": [
    "class Animal1:\n",
    "    def __init__(self):\n",
    "        self.a1 = 1\n",
    "        print(\"Animal1의 생성자 호출\")\n",
    "    \n",
    "    def bark1(self):\n",
    "        print(self.a1)\n",
    "\n",
    "\n",
    "class Animal2:\n",
    "    def __init__(self):\n",
    "        self.a2 = 2 # self.a2가 생성되지 않았기 때문...\n",
    "        print(\"Animal2의 생성자 호출\")\n",
    "    \n",
    "    def bark2(self):\n",
    "        print(self.a2)\n",
    "\n",
    "class Cat(Animal1):\n",
    "    def __init__(self):\n",
    "        super().__init__()\n",
    "        self.c1 = 3\n",
    "        print(\"Cat의 생성자 호출\")\n",
    "    \n",
    "    def bark3(self):\n",
    "        print(self.c1)\n",
    "\n",
    "class Dog(Animal2):\n",
    "    def __init__(self):\n",
    "        super().__init__()\n",
    "        self.d1 = 4 # self.d1이 생성되지 않았기 때문...\n",
    "        print(\"Dog의 생성자 호출\")\n",
    "    \n",
    "    def bark4(self):\n",
    "        print(self.d1)\n",
    "\n",
    "class Pet(Cat, Dog):\n",
    "    def __init__(self):\n",
    "        super().__init__()\n",
    "        self.p1 = 5\n",
    "        print(\"Pet의 생성자 호출\")\n",
    "    \n",
    "    def bark5(self):\n",
    "        print(self.p1)\n",
    "\n",
    "p = Pet()\n",
    "\n",
    "p.bark1()\n",
    "p.bark2()\n",
    "p.bark3()\n",
    "p.bark4()\n",
    "p.bark5()"
   ]
  },
  {
   "attachments": {
    "image.png": {
     "image/png": "[encoded data removed]"
    }
   },
   "cell_type": "markdown",
   "metadata": {},
   "source": [
    "![image.png](attachment:image.png)"
   ]
  },
  {
   "cell_type": "code",
   "execution_count": 84,
   "metadata": {},
   "outputs": [
    {
     "name": "stdout",
     "output_type": "stream",
     "text": [
      "Animal2의 생성자 호출\n",
      "Dog의 생성자 호출\n",
      "Animal1의 생성자 호출\n",
      "Cat의 생성자 호출\n",
      "Pet의 생성자 호출\n",
      "1\n",
      "2\n",
      "3\n",
      "4\n",
      "5\n"
     ]
    }
   ],
   "source": [
    "# 상훈님\n",
    "class Animal1:\n",
    "    def __init__(self):\n",
    "        self.a1 = 1\n",
    "        print(\"Animal1의 생성자 호출\")\n",
    "    \n",
    "    def bark1(self):\n",
    "        print(self.a1)\n",
    "\n",
    "\n",
    "class Animal2:\n",
    "    def __init__(self):\n",
    "        self.a2 = 2  # self.a2가 생성되지 않았기 때문...\n",
    "        print(\"Animal2의 생성자 호출\")\n",
    "    \n",
    "    def bark2(self):\n",
    "        print(self.a2)\n",
    "\n",
    "class Cat(Animal1):\n",
    "    def __init__(self):\n",
    "        super().__init__()\n",
    "        self.c1 = 3\n",
    "        print(\"Cat의 생성자 호출\")\n",
    "    \n",
    "    def bark3(self):\n",
    "        print(self.c1)\n",
    "\n",
    "class Dog(Animal2):\n",
    "    def __init__(self):\n",
    "        super().__init__()\n",
    "        self.d1 = 4\n",
    "        print(\"Dog의 생성자 호출\")\n",
    "    \n",
    "    def bark4(self):\n",
    "        print(self.d1)\n",
    "\n",
    "class Pet(Cat, Dog):\n",
    "    def __init__(self):\n",
    "        Dog.__init__(self)\n",
    "        Cat.__init__(self)    \n",
    "        print(\"Pet의 생성자 호출\")\n",
    "        # super().__init__()\n",
    "        self.p1 = 5\n",
    "    \n",
    "    def bark5(self):\n",
    "        print(self.p1)\n",
    "\n",
    "p = Pet()\n",
    "\n",
    "p.bark1()\n",
    "p.bark2()\n",
    "p.bark3()\n",
    "p.bark4()\n",
    "p.bark5()"
   ]
  },
  {
   "cell_type": "markdown",
   "metadata": {},
   "source": [
    "# 08_데일리과제"
   ]
  },
  {
   "cell_type": "code",
   "execution_count": 94,
   "metadata": {},
   "outputs": [
    {
     "name": "stdout",
     "output_type": "stream",
     "text": [
      "잘못된 입력입니다.\n"
     ]
    }
   ],
   "source": [
    "# hw_8_2.py\n",
    "# 사용자로 부터 숫자를 입력받아 입력된 숫자가 양수인지 음수인지 판별\n",
    "## 요구사항\n",
    "# 양수입니다. 음수입니다. 0은 정수입니다. 잘못된 입력입니다.\n",
    "def check_number():\n",
    "   try:\n",
    "      num = int(input('숫자를 입력하세요: '))\n",
    "      if num > 0 :\n",
    "         print('양수입니다.')\n",
    "      elif num < 0:\n",
    "         print('음수입니다.')\n",
    "      else:\n",
    "         print('0입니다.')\n",
    "   except: # ValueError\n",
    "      print('잘못된 입력입니다.')\n",
    "\n",
    "check_number()\n"
   ]
  },
  {
   "cell_type": "code",
   "execution_count": null,
   "metadata": {},
   "outputs": [],
   "source": [
    "# hw_8_4.py\n",
    "'''\n",
    "사용자로부터 이름과 나이 입력 받아, 딕셔너리 형태로 저장하는 프로그램\n",
    "get_user_info : 사용자로부터 이름과 나이 입력 받음\n",
    "    사용자가 잘못된 형식으로 입력했을 경우 예외처리를 통해 안내메세지\n",
    "    '나이는 숫자로 입력해야 합니다.'\n",
    "    \n",
    "display_user_info : 입력된 이름과 나이를 출력\n",
    "    사용자 정보가 입력되지 않은 경우 적절한 안내 메시지\n",
    "    '사용자 정보가 입력되지 않았습니다.'\n",
    "'''\n",
    "class UserInfo:\n",
    "    def __init__(self):\n",
    "        self.user_data = {}\n",
    "    \n",
    "    def get_user_info(self):\n",
    "        pass\n",
    "\n",
    "    def display_user_info(self):\n",
    "        pass\n",
    "\n",
    "user = UserInfo()\n",
    "user.get_user_info()\n",
    "user.display_user_info()"
   ]
  }
 ],
 "metadata": {
  "kernelspec": {
   "display_name": "Python 3",
   "language": "python",
   "name": "python3"
  },
  "language_info": {
   "codemirror_mode": {
    "name": "ipython",
    "version": 3
   },
   "file_extension": ".py",
   "mimetype": "text/x-python",
   "name": "python",
   "nbconvert_exporter": "python",
   "pygments_lexer": "ipython3",
   "version": "3.9.13"
  },
  "orig_nbformat": 4
 },
 "nbformat": 4,
 "nbformat_minor": 2
}
