{
 "cells": [
  {
   "cell_type": "code",
   "execution_count": 1,
   "metadata": {},
   "outputs": [],
   "source": [
    "students = [\n",
    "    '박해피',\n",
    "    '이영희',\n",
    "    '조민지',\n",
    "    '조민지',\n",
    "    '김철수',\n",
    "    '이영희',\n",
    "    '이영희',\n",
    "    '김해킹',\n",
    "    '박해피',\n",
    "    '김철수',\n",
    "    '한케이',\n",
    "    '강디티',\n",
    "    '조민지',\n",
    "    '박해피',\n",
    "    '김철수',\n",
    "    '이영희',\n",
    "    '박해피',\n",
    "    '김해킹',\n",
    "    '박해피',\n",
    "    '한케이',\n",
    "    '강디티',\n",
    "]"
   ]
  },
  {
   "cell_type": "code",
   "execution_count": 12,
   "metadata": {},
   "outputs": [
    {
     "name": "stdout",
     "output_type": "stream",
     "text": [
      "박해피\n",
      "이영희\n",
      "조민지\n",
      "김철수\n",
      "김해킹\n",
      "한케이\n",
      "강디티\n"
     ]
    }
   ],
   "source": [
    "# 반장선거 투표 결과 / 득표가 많은 순서대로 출력\n",
    "votes = dict()\n",
    "\n",
    "# students 순회하면서 votes 카운트 값 올려주는 방식\n",
    "for student in students:\n",
    "    if student not in votes:\n",
    "        votes[student] = 0\n",
    "    votes[student] += 1\n",
    "    \n",
    "votes_result = list(votes.items())\n",
    "\n",
    "# 키-값 쌍 (튜플)을 투표수에 대해서 정렬\n",
    "votes_result.sort(key=lambda x: x[1], reverse=True)\n",
    "\n",
    "for name, cnt in votes_result:\n",
    "    print(name)"
   ]
  },
  {
   "cell_type": "code",
   "execution_count": null,
   "metadata": {},
   "outputs": [],
   "source": []
  }
 ],
 "metadata": {
  "kernelspec": {
   "display_name": "Python 3",
   "language": "python",
   "name": "python3"
  },
  "language_info": {
   "codemirror_mode": {
    "name": "ipython",
    "version": 3
   },
   "file_extension": ".py",
   "mimetype": "text/x-python",
   "name": "python",
   "nbconvert_exporter": "python",
   "pygments_lexer": "ipython3",
   "version": "3.9.13"
  },
  "orig_nbformat": 4
 },
 "nbformat": 4,
 "nbformat_minor": 2
}
