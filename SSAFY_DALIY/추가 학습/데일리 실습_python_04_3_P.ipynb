{
 "cells": [
  {
   "cell_type": "code",
   "execution_count": null,
   "metadata": {},
   "outputs": [],
   "source": [
    "# 입력 예시\n",
    "# [1, 1, 3, 3, 0, 1, 1]\n",
    "\n",
    "# 출력 예시\n",
    "# [1, 3, 0, 1]"
   ]
  },
  {
   "cell_type": "code",
   "execution_count": 15,
   "metadata": {},
   "outputs": [
    {
     "data": {
      "text/plain": [
       "[1, 3, 0, 1]"
      ]
     },
     "execution_count": 15,
     "metadata": {},
     "output_type": "execute_result"
    }
   ],
   "source": [
    "iter = [1, 1, 3, 3, 0, 1, 1]\n",
    "\n",
    "res_list = [iter[0]]\n",
    "for index in range(1, len(iter)):\n",
    "    if iter[index] != iter[index-1]:\n",
    "        res_list.append(iter[index])\n",
    "        \n",
    "res_list"
   ]
  },
  {
   "cell_type": "code",
   "execution_count": 14,
   "metadata": {},
   "outputs": [
    {
     "name": "stdout",
     "output_type": "stream",
     "text": [
      "[1, 3, 0, 1]\n"
     ]
    }
   ],
   "source": [
    "def removeConsecutiveNumber(arr):\n",
    "    result = []\n",
    "    result.append(arr[0])\n",
    "    for item in arr:\n",
    "        # 만약에 result 넣었던 마지막 요소와 같은 값이라면 패스\n",
    "        if item == result[-1]:\n",
    "            continue\n",
    "        # 요소 추가\n",
    "        result.append(item)\n",
    "    return result\n",
    "\n",
    "print(removeConsecutiveNumber(iter))"
   ]
  },
  {
   "cell_type": "code",
   "execution_count": null,
   "metadata": {},
   "outputs": [],
   "source": []
  }
 ],
 "metadata": {
  "kernelspec": {
   "display_name": "Python 3",
   "language": "python",
   "name": "python3"
  },
  "language_info": {
   "codemirror_mode": {
    "name": "ipython",
    "version": 3
   },
   "file_extension": ".py",
   "mimetype": "text/x-python",
   "name": "python",
   "nbconvert_exporter": "python",
   "pygments_lexer": "ipython3",
   "version": "3.9.13"
  },
  "orig_nbformat": 4
 },
 "nbformat": 4,
 "nbformat_minor": 2
}
