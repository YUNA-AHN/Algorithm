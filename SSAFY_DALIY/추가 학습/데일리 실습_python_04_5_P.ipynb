{
 "cells": [
  {
   "cell_type": "code",
   "execution_count": 31,
   "metadata": {},
   "outputs": [],
   "source": [
    "test_status = {\n",
    "    '김싸피': 'solving',\n",
    "   \t'이코딩': 'solving',\n",
    "   \t'최이썬': 'cheating',\n",
    "   \t'오디비': 'sleeping',\n",
    "   \t'임온실': 'cheating',\n",
    "   \t'조실습': 'solving',\n",
    "   \t'박장고': 'sleeping',\n",
    "   \t'염자바': 'cheating'\n",
    "}\n"
   ]
  },
  {
   "cell_type": "code",
   "execution_count": 32,
   "metadata": {},
   "outputs": [
    {
     "name": "stdout",
     "output_type": "stream",
     "text": [
      "['염자바', '임온실', '최이썬']\n",
      "{'김싸피': 'solving', '이코딩': 'solving', '오디비': 'solving', '조실습': 'solving', '박장고': 'solving'}\n"
     ]
    }
   ],
   "source": [
    "# 로직\n",
    "# 커닝하고 있는 사람 삭제\n",
    "\n",
    "cheaters = []\n",
    "for key, value in list(test_status.items()): # 독립적인 리스트 값\n",
    "    if value == 'cheating':\n",
    "        # 요소를 제거\n",
    "        cheaters.append(key)\n",
    "        test_status.pop(key)\n",
    "        \n",
    "# 자고 있는 사람의 status를 sloving으로 변경\n",
    "for key, value in test_status.items():\n",
    "    if value == 'sleeping':\n",
    "        test_status[key] = 'solving'\n",
    "        \n",
    "# 출력\n",
    "# 1. 커닝하고 있는 사람의 리스트를 오름차순으로 출력\n",
    "cheaters.sort()\n",
    "print(cheaters)\n",
    "# 2. \n",
    "print(test_status)"
   ]
  },
  {
   "cell_type": "code",
   "execution_count": null,
   "metadata": {},
   "outputs": [],
   "source": []
  }
 ],
 "metadata": {
  "kernelspec": {
   "display_name": "Python 3",
   "language": "python",
   "name": "python3"
  },
  "language_info": {
   "codemirror_mode": {
    "name": "ipython",
    "version": 3
   },
   "file_extension": ".py",
   "mimetype": "text/x-python",
   "name": "python",
   "nbconvert_exporter": "python",
   "pygments_lexer": "ipython3",
   "version": "3.9.13"
  },
  "orig_nbformat": 4
 },
 "nbformat": 4,
 "nbformat_minor": 2
}
