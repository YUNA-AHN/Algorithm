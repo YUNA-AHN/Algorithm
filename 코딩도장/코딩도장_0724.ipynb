{
 "cells": [
  {
   "cell_type": "markdown",
   "metadata": {},
   "source": [
    "# 66번부터 79번까지!"
   ]
  },
  {
   "cell_type": "code",
   "execution_count": 3,
   "metadata": {},
   "outputs": [
    {
     "name": "stdout",
     "output_type": "stream",
     "text": [
      "pple mkit woojin jmes sieun"
     ]
    }
   ],
   "source": [
    "# 문제 066: for 반복문과 문자열의 만남\n",
    "# 로직 'a' 라는 문자열을 제외하고, 새로운 문자열을 만들겠다.\n",
    "text = input('하나의 문자열을 입력하세요:')\n",
    "\n",
    "result = ''\n",
    "for ch in text : # text의 값을 순회\n",
    "# ch 값이 'a'가 아니라면 문자열 result 에 추가\n",
    "    if ch != 'a':\n",
    "        # 새로운 문자열이 생성되는 것은 리소스가 많이 든다(메모리)\n",
    "        print(ch, end='')"
   ]
  },
  {
   "cell_type": "code",
   "execution_count": null,
   "metadata": {},
   "outputs": [],
   "source": [
    "# 얘가 제일 시간이 적게 걸림!\n",
    "result = []\n",
    "for ch in text : # text의 값을 순회\n",
    "# ch 값이 'a'가 아니라면 문자열 ch를 result 리스트에 요소로 추가\n",
    "    if ch != 'a':\n",
    "        result.append(ch)\n",
    "        \n",
    "# 문자들을 하나의 문자열로 합치기\n",
    "output = ''.join(result)\n",
    "print(output)"
   ]
  },
  {
   "cell_type": "code",
   "execution_count": null,
   "metadata": {},
   "outputs": [],
   "source": [
    "# 로직-출력 : print로 인한 오버헤드가 심하다...!\n",
    "# 'a' 라는 글자가 나오면 스킵, 아니라면 바로 콘솔에 출력\n",
    "for ch in text:\n",
    "    if ch != 'a':\n",
    "        print(ch, end='')\n",
    "        \n",
    "for ch in text:\n",
    "    if ch != 'a':\n",
    "        continue\n",
    "    print(ch, end='')"
   ]
  },
  {
   "cell_type": "code",
   "execution_count": null,
   "metadata": {},
   "outputs": [],
   "source": [
    "# 사실 파이썬은 인터프리터라서 이런 걸 비교하는게 큰 의미가 없긴 하다...!\n",
    "# 성능복잡도..? 시간복잡도에 대해 비교하는게 더 중요하다"
   ]
  },
  {
   "cell_type": "code",
   "execution_count": 44,
   "metadata": {},
   "outputs": [
    {
     "name": "stdout",
     "output_type": "stream",
     "text": [
      "0 번 친구 우진 을 소개합니다.\n",
      "1 번 친구 시은 을 소개합니다.\n",
      "2 번 친구 메이킷 을 소개합니다.\n",
      "3 번 친구 지연 을 소개합니다.\n",
      "4 번 친구 지훈 을 소개합니다.\n"
     ]
    }
   ],
   "source": [
    "# 문제 067: for 반복문과 리스트의 만남\n",
    "# 입력 X\n",
    "# 메인로직\n",
    "# 출력\n",
    "\n",
    "# 인덱스를 기준을 가져오게끔 for문 작성\n",
    "names = ['우진', '시은', '메이킷', '지연', '지훈']\n",
    "for index in range(len(names)):\n",
    "    print(f'{index + 1} 번 친구 {names[index]} 을 소개합니다.')\n",
    "    \n",
    "# enumerate 사용하기\n",
    "for index, name in enumerate(names, 1):\n",
    "    print(f'{index} 번 친구 {name} 을 소개합니다.')\n",
    "    \n",
    "# 카운트 변수를 만드러서 출력 보조\n",
    "count = 0\n",
    "for name in names:\n",
    "     count += 1\n",
    "     print('f{count} 번 친구 {name} 을 소개합니다.')"
   ]
  },
  {
   "cell_type": "code",
   "execution_count": 9,
   "metadata": {},
   "outputs": [
    {
     "name": "stdout",
     "output_type": "stream",
     "text": [
      "1 2 3 4 6 7 8 9 11 12 13 14 16 17 18 19 21 22 23 24 26 27 28 29 "
     ]
    }
   ],
   "source": [
    "# 문제 068: 다음 반복문으로 바로가기(continue)\n",
    "# 1. 반복문\n",
    "for num in range(1, 31):\n",
    "    if num % 5 == 0:\n",
    "        continue\n",
    "    print(num, end=' ')\n",
    "    \n",
    "# 2. 리스트에 출력할 값을 담고\n",
    "result = []\n",
    "for num in range(1, 31):\n",
    "    if num % 5 == 0:\n",
    "        continue\n",
    "    result.append(num)\n",
    "# join 활용한 출력\n",
    "print(' '.join(result))\n",
    "\n",
    "# 언패킹 출력\n",
    "print(*result)\n",
    "\n",
    "print(*[num for num in range(1, 31) if num % 5 != 0])"
   ]
  },
  {
   "cell_type": "code",
   "execution_count": 10,
   "metadata": {},
   "outputs": [
    {
     "name": "stdout",
     "output_type": "stream",
     "text": [
      "498\n"
     ]
    }
   ],
   "source": [
    "# 문제 069: 반복문 깨고 바로 나가기(break)\n",
    "cnt = 0\n",
    "for num in range(3, 1000, 5):\n",
    "    cnt += 1\n",
    "    if cnt == 100:\n",
    "        print(num)"
   ]
  },
  {
   "cell_type": "code",
   "execution_count": 70,
   "metadata": {},
   "outputs": [
    {
     "name": "stdout",
     "output_type": "stream",
     "text": [
      "498\n"
     ]
    }
   ],
   "source": [
    "result = 3 # 얘가 첫번째니까!\n",
    "for i in range(99): # 99번 반복\n",
    "    result += 5\n",
    "\n",
    "print(result)\n",
    "\n",
    "result = 3 + 5 * 99\n",
    "print(result)"
   ]
  },
  {
   "cell_type": "code",
   "execution_count": 63,
   "metadata": {},
   "outputs": [],
   "source": [
    "trial = 1\n",
    "num = 3\n",
    "while trial < 100 :\n",
    "    num = num + 5\n",
    "    trial += 1\n",
    "    \n",
    "print(num)"
   ]
  },
  {
   "cell_type": "code",
   "execution_count": 71,
   "metadata": {},
   "outputs": [
    {
     "name": "stdout",
     "output_type": "stream",
     "text": [
      "3\n"
     ]
    }
   ],
   "source": [
    "# 문제 070: 가장 작은 숫자 찾기\n",
    "# text = input()\n",
    "# text = text.split(\" \")\n",
    "# for i in range(len(text)):\n",
    "#     text[i] = int(text[i])\n",
    "\n",
    "# map의 지연 평가 -> 리스트화 필요\n",
    "nums =  list(map(int, input().split())) \n",
    "print(min(nums))"
   ]
  },
  {
   "cell_type": "code",
   "execution_count": null,
   "metadata": {},
   "outputs": [],
   "source": [
    "# 1. 중첩 조건문\n",
    "\n",
    "arr =  list(map(int, input().split())) \n",
    "\n",
    "if arr[0] > arr[1]:\n",
    "    if arr[1] > arr[2]:\n",
    "        print(arr[2])\n",
    "    else:\n",
    "        print(arr[1])"
   ]
  },
  {
   "cell_type": "code",
   "execution_count": null,
   "metadata": {},
   "outputs": [],
   "source": [
    "# 2. 내장함수 min\n",
    "mn = min(arr)\n",
    "print(mn)"
   ]
  },
  {
   "cell_type": "code",
   "execution_count": null,
   "metadata": {},
   "outputs": [],
   "source": [
    "# for문으로 최소값을 찾는 방법\n",
    "mn  = arr[0]\n",
    "for i in arr:\n",
    "    if mn > i: # 최솟값을 발견했다면 mn(최솟값)을 교체\n",
    "        mn = i\n",
    "print(mn)"
   ]
  },
  {
   "cell_type": "code",
   "execution_count": null,
   "metadata": {},
   "outputs": [],
   "source": [
    "# 최솟값을 만드는 함수\n",
    "def my_min(iter):\n",
    "    mn  = arr[0]\n",
    "    for i in arr:\n",
    "        if mn > i:\n",
    "            mn = i\n",
    "    return mn"
   ]
  },
  {
   "cell_type": "code",
   "execution_count": null,
   "metadata": {},
   "outputs": [],
   "source": [
    "# 최댓값을 만드는 함수\n",
    "def my_max(iter):\n",
    "    mx  = arr[0]\n",
    "    for i in arr:\n",
    "        if mx > i:\n",
    "            mx = i\n",
    "    return mx"
   ]
  },
  {
   "cell_type": "code",
   "execution_count": 18,
   "metadata": {},
   "outputs": [
    {
     "name": "stdout",
     "output_type": "stream",
     "text": [
      "터널 통과 불가능\n",
      "140\n",
      "130\n"
     ]
    }
   ],
   "source": [
    "# 문제 071: 터널 통과하기 II : 구려...!!\n",
    "car_height = int(input())\n",
    "tunnel_height = map(int, input().split())\n",
    "\n",
    "heigt_list= []\n",
    "message = '터널 통과 가능'\n",
    "for height in tunnel_height:\n",
    "    if height <= car_height:\n",
    "        message = '터널 통과 불가능'\n",
    "        heigt_list.append(height)\n",
    "    else:\n",
    "        pass\n",
    "print(message)\n",
    "if message == '터널 통과 불가능':\n",
    "    for hei in heigt_list:\n",
    "        print(hei)\n",
    "# print(*heigt_list)"
   ]
  },
  {
   "cell_type": "code",
   "execution_count": 22,
   "metadata": {},
   "outputs": [
    {
     "name": "stdout",
     "output_type": "stream",
     "text": [
      "300\n"
     ]
    }
   ],
   "source": [
    "# 문제 072: 행운의 숫자 7 모두 찾기\n",
    "total  = 0\n",
    "\n",
    "for num in range(1, 1001):\n",
    "    cnt = list(str(num)).count('7')\n",
    "    total += cnt\n",
    "\n",
    "print(total)"
   ]
  },
  {
   "cell_type": "code",
   "execution_count": 29,
   "metadata": {},
   "outputs": [
    {
     "name": "stdout",
     "output_type": "stream",
     "text": [
      "1 2 3 4 6 12\n",
      "12 6 4 3 2 1\n"
     ]
    }
   ],
   "source": [
    "# 문제 073: 약수 구하기\n",
    "num = int(input())\n",
    "\n",
    "num_list = []\n",
    "for number in range(1, num + 1):\n",
    "    if num % number == 0:\n",
    "        num_list.append(number)\n",
    "print(*num_list)\n",
    "print(*sorted(num_list, reverse=True))"
   ]
  },
  {
   "cell_type": "code",
   "execution_count": 39,
   "metadata": {},
   "outputs": [
    {
     "ename": "ValueError",
     "evalue": "invalid literal for int() with base 10: '3 2 -20 100 35'",
     "output_type": "error",
     "traceback": [
      "\u001b[1;31m---------------------------------------------------------------------------\u001b[0m",
      "\u001b[1;31mValueError\u001b[0m                                Traceback (most recent call last)",
      "Cell \u001b[1;32mIn[39], line 2\u001b[0m\n\u001b[0;32m      1\u001b[0m \u001b[39m# 문제 074: 리스트 최대, 최소, 평균 구하기 I\u001b[39;00m\n\u001b[1;32m----> 2\u001b[0m num \u001b[39m=\u001b[39m \u001b[39mint\u001b[39;49m(\u001b[39minput\u001b[39;49m())\n\u001b[0;32m      3\u001b[0m numbers \u001b[39m=\u001b[39m \u001b[39mmap\u001b[39m(\u001b[39mint\u001b[39m, \u001b[39minput\u001b[39m()\u001b[39m.\u001b[39msplit())\n\u001b[0;32m      5\u001b[0m \u001b[39mprint\u001b[39m(\u001b[39mf\u001b[39m\u001b[39m'\u001b[39m\u001b[39m리스트 최댓값 \u001b[39m\u001b[39m{\u001b[39;00m\u001b[39mmax\u001b[39m(numbers)\u001b[39m}\u001b[39;00m\u001b[39m'\u001b[39m)\n",
      "\u001b[1;31mValueError\u001b[0m: invalid literal for int() with base 10: '3 2 -20 100 35'"
     ]
    }
   ],
   "source": [
    "# 문제 074: 리스트 최대, 최소, 평균 구하기 I\n",
    "num = int(input())\n",
    "numbers = map(int, input().split())\n",
    "\n",
    "print(f'리스트 최댓값 {max(numbers)}')\n",
    "print(f'리스트 최솟값 {min(numbers)}')\n",
    "print(f'리스트 평균값 {sum(numbers) / len(numbers)}')"
   ]
  },
  {
   "cell_type": "code",
   "execution_count": null,
   "metadata": {},
   "outputs": [],
   "source": [
    "# 문제 075: 리스트 최대, 최소, 평균 구하기 II\n",
    "num = int(input())\n",
    "numbers = map(int, input().split())\n",
    "\n",
    "minimun\n",
    "for number in numbers:\n",
    "    if minimun > number:\n",
    "        "
   ]
  },
  {
   "cell_type": "code",
   "execution_count": 40,
   "metadata": {},
   "outputs": [
    {
     "name": "stdout",
     "output_type": "stream",
     "text": [
      "10\n"
     ]
    }
   ],
   "source": [
    "# 문제 076: 각 자릿수의 합 구하기 I\n",
    "nums = input()\n",
    "\n",
    "total = 0\n",
    "for num in nums:\n",
    "    total += int(num)\n",
    "print(total)"
   ]
  },
  {
   "cell_type": "code",
   "execution_count": 53,
   "metadata": {},
   "outputs": [
    {
     "name": "stdout",
     "output_type": "stream",
     "text": [
      "46\n"
     ]
    }
   ],
   "source": [
    "# 문제 077: 각 자릿수의 합 구하기 II\n",
    "nums = int(input())\n",
    "\n",
    "total = 0\n",
    "step_nums = nums\n",
    "for index in range(1, len(str(nums)) + 1):\n",
    "    step = step_nums % (10 * index)\n",
    "    step_nums -= step * (10 * index)\n",
    "    total += step\n",
    "print(total)"
   ]
  },
  {
   "cell_type": "code",
   "execution_count": 72,
   "metadata": {},
   "outputs": [
    {
     "data": {
      "text/plain": [
       "'PDNLW'"
      ]
     },
     "execution_count": 72,
     "metadata": {},
     "output_type": "execute_result"
    }
   ],
   "source": [
    "# 문제 078: 카이사르 암호\n",
    "chars = input()\n",
    "\n",
    "char_list = []\n",
    "for char in chars:\n",
    "    new_char = chr(ord(char) + 3)\n",
    "    char_list.append(new_char)\n",
    "\n",
    "print(''.join(char_list))"
   ]
  },
  {
   "cell_type": "code",
   "execution_count": 75,
   "metadata": {},
   "outputs": [
    {
     "name": "stdout",
     "output_type": "stream",
     "text": [
      "mAKIT cODE lAB !!\n"
     ]
    }
   ],
   "source": [
    "# 문제 079: 소문자는 대문자로, 대문자는 소문자로 변환하기\n",
    "text = input()\n",
    "\n",
    "print(text.swapcase())"
   ]
  },
  {
   "cell_type": "code",
   "execution_count": null,
   "metadata": {},
   "outputs": [],
   "source": []
  }
 ],
 "metadata": {
  "kernelspec": {
   "display_name": "Python 3",
   "language": "python",
   "name": "python3"
  },
  "language_info": {
   "codemirror_mode": {
    "name": "ipython",
    "version": 3
   },
   "file_extension": ".py",
   "mimetype": "text/x-python",
   "name": "python",
   "nbconvert_exporter": "python",
   "pygments_lexer": "ipython3",
   "version": "3.9.13"
  },
  "orig_nbformat": 4
 },
 "nbformat": 4,
 "nbformat_minor": 2
}
