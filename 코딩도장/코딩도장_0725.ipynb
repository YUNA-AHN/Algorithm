{
 "cells": [
  {
   "cell_type": "code",
   "execution_count": 2,
   "metadata": {},
   "outputs": [],
   "source": [
    "# 문제 080: 우리 반 학생들의 이름과 나이 저장하기\n",
    "student = {'메이킷': 17, '우진': 9, '시은': 11, '제임스': 10}\n",
    "student['메이킷'] = 17\n",
    "student['우진'] = 9\n",
    "student['시은'] = 11\n",
    "student['제임스'] = 10\n",
    "print(student)"
   ]
  },
  {
   "cell_type": "code",
   "execution_count": 7,
   "metadata": {},
   "outputs": [
    {
     "name": "stdout",
     "output_type": "stream",
     "text": [
      "내가 살고 있는 곳은 서울 입니다.\n",
      "나의 성별은 여자 이고 이름은 시은 입니다.\n",
      "나이는 11 살 이고 혈액형은 b 형입니다.\n"
     ]
    }
   ],
   "source": [
    "# 문제 081: 자기 소개하기\n",
    "location = input()\n",
    "gender = input()\n",
    "name = input()\n",
    "age = (int)\n",
    "blood = input()\n",
    "\n",
    "s = {\n",
    "    'location' :location,\n",
    "    'gender' : gender,\n",
    "    'name' : name,\n",
    "    'age' : age,\n",
    "    'age' : blood\n",
    "}\n",
    "print(f'내가 살고 있는 곳은 {s[\"location\"]} 입니다.')\n",
    "print(f'나의 성별은 {s[\"gender\"]} 이고 이름은 {s[\"name\"]} 입니다.')\n",
    "print(f'나이는 {s[\"age\"]} 살 이고 혈액형은 {s[\"age\"]} 형입니다.')"
   ]
  },
  {
   "cell_type": "code",
   "execution_count": 11,
   "metadata": {},
   "outputs": [
    {
     "name": "stdout",
     "output_type": "stream",
     "text": [
      "나의 성별은 남자 이고 이름은 우진 입니다.\n",
      "나이는 9 살 이고 혈액형 b입니다.\n"
     ]
    }
   ],
   "source": [
    "# 문제 082: 딕셔너리에 추가하기\n",
    "s = {\n",
    "    '사는 곳' :'인천 송도',\n",
    "    '성별' : '남자',\n",
    "    '이름' : '우진'\n",
    "}\n",
    "\n",
    "age = input()\n",
    "blood = input()\n",
    "\n",
    "s['나이'] = age\n",
    "s['혈액형'] = blood\n",
    "\n",
    "print(f\"나의 성별은 {s.get('성별')} 이고 이름은 {s.get('이름')} 입니다.\")\n",
    "print(f\"나이는 {s.get('나이')} 살 이고 혈액형은 {s.get('혈액형')}입니다.\")"
   ]
  },
  {
   "cell_type": "code",
   "execution_count": 12,
   "metadata": {},
   "outputs": [
    {
     "name": "stdout",
     "output_type": "stream",
     "text": [
      "{'성별': '남자', '이름': '우진'}\n"
     ]
    }
   ],
   "source": [
    "# 문제 083: 딕셔너리에서 삭제하기\n",
    "s = {'사는 곳':'인천 송도', '성별':'남자','이름':'우진'} \n",
    "s.pop('사는 곳')\n",
    "print(s)"
   ]
  },
  {
   "cell_type": "code",
   "execution_count": 21,
   "metadata": {},
   "outputs": [
    {
     "name": "stdout",
     "output_type": "stream",
     "text": [
      "['사는 곳', '성별', '이름']\n",
      "['인천 송도', '남자', '우진']\n",
      "[('사는 곳', '인천 송도'), ('성별', '남자'), ('이름', '우진')]\n"
     ]
    }
   ],
   "source": [
    "# 문제 084: 딕셔너리에서 뽑아내기 keys(), values(), items()\n",
    "s = {'사는 곳':'인천 송도', '성별':'남자','이름':'우진'}\n",
    "a = list(s.keys())\n",
    "b = list(s.values())\n",
    "c = list(s.items())\n",
    "print(a)\n",
    "print(b)\n",
    "print(c)"
   ]
  },
  {
   "cell_type": "code",
   "execution_count": 25,
   "metadata": {},
   "outputs": [
    {
     "data": {
      "text/plain": [
       "<dict_keyiterator at 0x18813e81ef0>"
      ]
     },
     "execution_count": 25,
     "metadata": {},
     "output_type": "execute_result"
    }
   ],
   "source": [
    "iter(s.keys()) # next?"
   ]
  },
  {
   "cell_type": "code",
   "execution_count": 23,
   "metadata": {},
   "outputs": [
    {
     "name": "stdout",
     "output_type": "stream",
     "text": [
      "물품을 입력하면 가격을 알려드립니다\n",
      "새우칩의 가격은 1500 입니다\n",
      "양파칩의 가격은 1300 입니다\n",
      "콜라의 가격은 700 입니다\n",
      "사이다는 등록되어 있지 않습니다\n"
     ]
    }
   ],
   "source": [
    "# 문제 085: 딕셔너리와 if 조건문의 만남\n",
    "store = {'새우칩':1500, '옥수수칩':1800,'콜라':700,'양파칩':1300}\n",
    "\n",
    "print('물품을 입력하면 가격을 알려드립니다')\n",
    "while True:\n",
    "    name = input('물품 이름은?')\n",
    "    if name in list(store.keys()):\n",
    "        print(f'{name}의 가격은 {store[name]} 입니다')\n",
    "    else:\n",
    "        print(f'{name}는 등록되어 있지 않습니다')\n",
    "        break"
   ]
  },
  {
   "cell_type": "code",
   "execution_count": 32,
   "metadata": {},
   "outputs": [
    {
     "name": "stdout",
     "output_type": "stream",
     "text": [
      "물품을 입력하면 가격을 알려드립니다\n",
      "양파칩의 가격은 1300 입니다\n",
      "콜라의 가격은 700 입니다\n"
     ]
    }
   ],
   "source": [
    "store = {'새우칩':1500, '옥수수칩':1800,'콜라':700,'양파칩':1300}\n",
    "\n",
    "print('물품을 입력하면 가격을 알려드립니다')\n",
    "product = input('물품 이름은?')\n",
    "while product in store:\n",
    "    print(f'{product}의 가격은 {store[product]} 입니다')\n",
    "    product = input('물품 이름은?')"
   ]
  },
  {
   "cell_type": "code",
   "execution_count": null,
   "metadata": {},
   "outputs": [],
   "source": [
    "store = {'새우칩':1500, '옥수수칩':1800,'콜라':700,'양파칩':1300}\n",
    "\n",
    "print('물품을 입력하면 가격을 알려드립니다')\n",
    "while True:\n",
    "    try:\n",
    "        stock = input('물품 이름은?')\n",
    "        print(f'{stock}의 가격은 {store[stock]} 입니다')\n",
    "    except:\n",
    "        print(f'{stock}는 등록되어 있지 않습니다')\n",
    "        break"
   ]
  },
  {
   "cell_type": "code",
   "execution_count": 27,
   "metadata": {},
   "outputs": [
    {
     "name": "stdout",
     "output_type": "stream",
     "text": [
      "1 번 물품은 새우칩 이고 가격은 1500 입니다\n",
      "2 번 물품은 옥수수칩 이고 가격은 1800 입니다\n",
      "3 번 물품은 콜라 이고 가격은 700 입니다\n",
      "4 번 물품은 양파칩 이고 가격은 1300 입니다\n",
      "우리 가게는 모두 4 개 종류의 물건이 있습니다\n",
      "우리 가게 물거들의 가격 총합은 5300 입니다\n"
     ]
    }
   ],
   "source": [
    "# 문제 086: 딕셔너리와 for 반복문의 만남\n",
    "store = {'새우칩':1500, '옥수수칩':1800,'콜라':700,'양파칩':1300}\n",
    "total = 0\n",
    "i = 1\n",
    "for key, values in store.items():\n",
    "    print(f'{i} 번 물품은 {key} 이고 가격은 {values} 입니다')\n",
    "    total += values\n",
    "    i += 1\n",
    "print(f'우리 가게는 모두 {len(store)} 개 종류의 물건이 있습니다')\n",
    "print(f'우리 가게 물건들의 가격 총합은 {total} 입니다')"
   ]
  },
  {
   "cell_type": "code",
   "execution_count": 35,
   "metadata": {},
   "outputs": [
    {
     "name": "stdout",
     "output_type": "stream",
     "text": [
      "1 번 물품은 새우칩 이고 가격은 1500 입니다\n",
      "2 번 물품은 옥수수칩 이고 가격은 1800 입니다\n",
      "3 번 물품은 콜라 이고 가격은 700 입니다\n",
      "4 번 물품은 양파칩 이고 가격은 1300 입니다\n",
      "우리 가게는 모두 4 개 종류의 물건이 있습니다\n",
      "우리 가게 물거들의 가격 총합은 5300 입니다\n"
     ]
    }
   ],
   "source": [
    "store = {'새우칩':1500, '옥수수칩':1800,'콜라':700,'양파칩':1300}\n",
    "\n",
    "for index, key in enumerate(store.keys(), 1):\n",
    "    print(f'{index} 번 물품은 {key} 이고 가격은 {store[key]} 입니다')\n",
    "\n",
    "# len 함수 이용\n",
    "print(f'우리 가게는 모두 {len(store)} 개 종류의 물건이 있습니다')\n",
    "\n",
    "# sum 함수 이용\n",
    "print(f'우리 가게 물거들의 가격 총합은 {sum(store.values())} 입니다')\n",
    "\n",
    "# len 함수 구현\n",
    "def my_len(iterable):\n",
    "    count = 0\n",
    "    for i in iterable:\n",
    "        count+= 1\n",
    "    return count\n",
    "\n",
    "def my_sum(iterable):\n",
    "    total = 0\n",
    "    for i in iterable:\n",
    "        total += i\n",
    "    return total"
   ]
  },
  {
   "cell_type": "code",
   "execution_count": null,
   "metadata": {},
   "outputs": [],
   "source": [
    "# 문제 087: 딕셔너리의 값으로 리스트 사용하기\n",
    "store = {\n",
    "    '새우칩' : [1500, 3],\n",
    "    '옥수수칩' : [1800, 2],\n",
    "    '콜라' : [700, 4],\n",
    "    '양파칩' : [1300, 1]\n",
    "}"
   ]
  },
  {
   "cell_type": "code",
   "execution_count": 42,
   "metadata": {},
   "outputs": [
    {
     "name": "stdout",
     "output_type": "stream",
     "text": [
      "1 번 물품은 새우칩 이고 가격은 1500 이고 수량은 3입니다\n",
      "2 번 물품은 옥수수칩 이고 가격은 1800 이고 수량은 2입니다\n",
      "3 번 물품은 콜라 이고 가격은 700 이고 수량은 4입니다\n",
      "4 번 물품은 양파칩 이고 가격은 1300 이고 수량은 1입니다\n",
      "우리 가게는 모두 4 개 종류의 물건이 있습니다\n",
      "우리 가게 물건 수량은 10 입니다\n",
      "우리 가게 물건들의 가격 총합은 12200 입니다\n",
      "우리 가게 물건들의 평균 가격은 1220.0 입니다\n"
     ]
    }
   ],
   "source": [
    "store = {\n",
    "    '새우칩' : {\n",
    "        'price' : 1500,\n",
    "        'amount' : 3},\n",
    "    '옥수수칩' : {\n",
    "        'price' : 1800, \n",
    "        'amount' : 2},\n",
    "    '콜라' : {\n",
    "        'price' : 700, \n",
    "        'amount' : 4},\n",
    "    '양파칩' : {\n",
    "        'price' : 1300, \n",
    "        'amount' : 1}\n",
    "}\n",
    "\n",
    "for index, key in enumerate(store.keys(), 1):\n",
    "    print(f\"{index} 번 물품은 {key} 이고 가격은 {store[key]['price']} 이고 수량은 {store[key]['amount']}입니다\")\n",
    "\n",
    "total_amount = 0\n",
    "for key in store:\n",
    "    product = store[key]\n",
    "    total_amount += product['amount']\n",
    "    \n",
    "# 총합 누적 변수\n",
    "total_price = 0\n",
    "for key in store:\n",
    "    product = store[key]\n",
    "    total_price += product['amount'] ( product['price'])\n",
    "    \n",
    "# 익명함수\n",
    "total_amount = sum(map(lambda val : val['amount'], store.values()))\n",
    "\n",
    "total_price = sum(map(lambda val : val['amount'] * val['price'], store.values()))\n",
    "\n",
    "print(f'우리 가게는 모두 {len(store)} 개 종류의 물건이 있습니다')\n",
    "print(f'우리 가게 물건 수량은 {total_amount} 입니다')\n",
    "print(f'우리 가게 물건들의 가격 총합은 {total_price} 입니다')\n",
    "print(f'우리 가게 물건들의 평균 가격은 {total_price / total_amount} 입니다')"
   ]
  },
  {
   "cell_type": "code",
   "execution_count": 51,
   "metadata": {},
   "outputs": [
    {
     "name": "stdout",
     "output_type": "stream",
     "text": [
      "우진이의 코딩 점수는?95\n",
      "시은이의 과학 점수는?100\n",
      "메이킷이의 영어 점수는?85\n"
     ]
    }
   ],
   "source": [
    "# 문제 088: 딕셔너리의 값으로 딕셔너리 사용하기\n",
    "students = {\n",
    "    \"우진\" : {\n",
    "        # 과목 : 점수\n",
    "        \"코딩\" : 95,\n",
    "        \"수학\" : 99\n",
    "    },\n",
    "    \"시은\" : {\n",
    "        \"과학\" : 100,\n",
    "        \"코딩\" : 99\n",
    "    },\n",
    "    \"메이킷\" : {\n",
    "        \"영어\" : 85,\n",
    "        \"코딩\" : 100\n",
    "    }\n",
    "}\n",
    "\n",
    "print(f'우진이의 코딩 점수는?{students[\"우진\"][\"코딩\"]}')\n",
    "print(f'시은이의 과학 점수는?{students[\"시은\"][\"과학\"]}')\n",
    "print(f'메이킷이의 영어 점수는?{students[\"메이킷\"][\"영어\"]}')"
   ]
  },
  {
   "cell_type": "code",
   "execution_count": 43,
   "metadata": {},
   "outputs": [
    {
     "name": "stdout",
     "output_type": "stream",
     "text": [
      "[1, 2, 3, 4, 5]\n"
     ]
    }
   ],
   "source": [
    "# 문제 089: 집합 특성 이해하기\n",
    "a = [1, 2, 1, 1, 2, 3, 4, 1, 5, 2, 1, 5]\n",
    "a = set(a)\n",
    "a = list(a)\n",
    "print(a)"
   ]
  },
  {
   "cell_type": "code",
   "execution_count": 45,
   "metadata": {},
   "outputs": [
    {
     "name": "stdout",
     "output_type": "stream",
     "text": [
      "{'소피아', '시은', '우진', '하워드', '메이킷'}\n",
      "{'시은', '우진', '하워드', '메이킷'}\n"
     ]
    }
   ],
   "source": [
    "# 문제 090: 집합 추가하거나 삭제하기\n",
    "a = {'메이킷', '우진', '시은', '소피아'}\n",
    "a.add('하워드')\n",
    "print(a)\n",
    "a.discard('소피아')\n",
    "print(a)"
   ]
  },
  {
   "cell_type": "code",
   "execution_count": 49,
   "metadata": {},
   "outputs": [
    {
     "name": "stdout",
     "output_type": "stream",
     "text": [
      "하와이, 이탈리아, 두바이 모두 여행을 다녀온 사람은?\n",
      "{'시은'}\n",
      "하와이 또는 이탈리아 여행을 다녀온 사람은?\n",
      "{'시은', '우진', '윤진', '형우'}\n",
      "두바이 여행은 다녀왔고 하와이와 이탈리아 여행 경험이 없는 사람은?\n",
      "{'메이킷'}\n"
     ]
    }
   ],
   "source": [
    "# 문제 091: 집합 연산\n",
    "hawaii = {'윤진', '시은', '우진'}\n",
    "italia = {'형우', '윤진', '시은'}\n",
    "dubai = {'시은', '우진', '메이킷'}\n",
    "\n",
    "print('하와이, 이탈리아, 두바이 모두 여행을 다녀온 사람은?')\n",
    "name = hawaii & italia & dubai\n",
    "print(name)\n",
    "\n",
    "print('하와이 또는 이탈리아 여행을 다녀온 사람은?')\n",
    "name = hawaii | italia\n",
    "print(name)\n",
    "\n",
    "print('두바이 여행은 다녀왔고 하와이와 이탈리아 여행 경험이 없는 사람은?')\n",
    "name = dubai - hawaii - italia \n",
    "print(name)"
   ]
  },
  {
   "cell_type": "code",
   "execution_count": 52,
   "metadata": {},
   "outputs": [
    {
     "name": "stdout",
     "output_type": "stream",
     "text": [
      "하와이, 이탈리아, 두바이 모두 여행을 다녀온 사람은?\n",
      "{'시은'}\n",
      "하와이 또는 이탈리아 여행을 다녀온 사람은?\n",
      "{'시은', '우진', '윤진', '형우'}\n",
      "두바이 여행은 다녀왔고 하와이와 이탈리아 여행 경험이 없는 사람은?\n",
      "{'메이킷'}\n"
     ]
    }
   ],
   "source": [
    "print('하와이, 이탈리아, 두바이 모두 여행을 다녀온 사람은?')\n",
    "name = hawaii.intersection(italia).intersection(dubai)\n",
    "print(name)\n",
    "\n",
    "print('하와이 또는 이탈리아 여행을 다녀온 사람은?')\n",
    "name = hawaii.union(italia)\n",
    "print(name)\n",
    "\n",
    "print('두바이 여행은 다녀왔고 하와이와 이탈리아 여행 경험이 없는 사람은?')\n",
    "name = dubai.difference(hawaii).difference(italia) \n",
    "print(name)"
   ]
  },
  {
   "cell_type": "code",
   "execution_count": null,
   "metadata": {},
   "outputs": [],
   "source": []
  }
 ],
 "metadata": {
  "kernelspec": {
   "display_name": "Python 3",
   "language": "python",
   "name": "python3"
  },
  "language_info": {
   "codemirror_mode": {
    "name": "ipython",
    "version": 3
   },
   "file_extension": ".py",
   "mimetype": "text/x-python",
   "name": "python",
   "nbconvert_exporter": "python",
   "pygments_lexer": "ipython3",
   "version": "3.9.13"
  },
  "orig_nbformat": 4
 },
 "nbformat": 4,
 "nbformat_minor": 2
}
