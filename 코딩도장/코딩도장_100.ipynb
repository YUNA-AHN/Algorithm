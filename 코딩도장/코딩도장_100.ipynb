{
 "cells": [
  {
   "cell_type": "code",
   "execution_count": null,
   "metadata": {},
   "outputs": [
    {
     "name": "stdout",
     "output_type": "stream",
     "text": [
      "makit \"code\" lab\n",
      "she's gone\n"
     ]
    }
   ],
   "source": [
    "# 문제 001: 문자 출력하기\n",
    "print('makit \"code\" lab' + '\\n'\n",
    "    + \"she's gone\")"
   ]
  },
  {
   "cell_type": "code",
   "execution_count": null,
   "metadata": {},
   "outputs": [
    {
     "name": "stdout",
     "output_type": "stream",
     "text": [
      "a의 값은 10\n",
      "b의 값은 20\n",
      "a와 b의 합은 30\n"
     ]
    }
   ],
   "source": [
    "# 문제 002: 숫자 저장하기\n",
    "a = 10\n",
    "b = 20\n",
    "print(f'a의 값은 {a}')\n",
    "print(f'b의 값은 {b}')\n",
    "print(f'a와 b의 합은 {a+b}')"
   ]
  },
  {
   "cell_type": "code",
   "execution_count": 1,
   "metadata": {},
   "outputs": [
    {
     "name": "stdout",
     "output_type": "stream",
     "text": [
      "30을 8로 나눈 몫은 3\n",
      "30을 8로 나눈 나머지는 6\n",
      "30을 8로 나눈 결과는 3.75\n"
     ]
    }
   ],
   "source": [
    "# 문제 005: 몫 연산자(//)와 나머지 연산자(%)\n",
    "a = 30 // 8\n",
    "b = 30 % 8\n",
    "print(f'30을 8로 나눈 몫은 {a}')\n",
    "print(f'30을 8로 나눈 나머지는 {b}')\n",
    "print(f'30을 8로 나눈 결과는 {30/8}')"
   ]
  },
  {
   "cell_type": "code",
   "execution_count": 3,
   "metadata": {},
   "outputs": [
    {
     "name": "stdout",
     "output_type": "stream",
     "text": [
      "시은 우진 화이팅!!\n",
      "\n",
      "시은 우진 화이팅!!\n"
     ]
    }
   ],
   "source": [
    "# 문제 007: 한 줄 띄기\n",
    "a = '시은 우진'\n",
    "a += ' 화이팅!!'\n",
    "print(a, end='\\n\\n')\n",
    "print(a)"
   ]
  },
  {
   "cell_type": "code",
   "execution_count": 5,
   "metadata": {},
   "outputs": [
    {
     "name": "stdout",
     "output_type": "stream",
     "text": [
      "ㅙㅙ 님은 내년에는 18 살이 됩니다.\n"
     ]
    }
   ],
   "source": [
    "# 문제 008: 입력받아 컴퓨터랑 대화하기\n",
    "name = input('이름이 무엇인가요? ')\n",
    "age = int(input('몇 살인가요? '))\n",
    "print(f'{name} 님은 내년에는 {age + 1} 살이 됩니다.')"
   ]
  },
  {
   "cell_type": "code",
   "execution_count": 1,
   "metadata": {},
   "outputs": [
    {
     "name": "stdout",
     "output_type": "stream",
     "text": [
      "a와 b의 합은 5.5\n",
      "a와 b의 평균값은 2.75\n",
      "a와 b의 합은 5.5\n",
      "a와 b의 평균값은 2.75\n"
     ]
    }
   ],
   "source": [
    "# 문제 009: 두 수를 입력받아 합과 평균 구하기\n",
    "a = int(input())\n",
    "b = float(input())\n",
    "print(f'a와 b의 합은 {a+b}')\n",
    "print(f'a와 b의 평균값은 {(a+b)/2}')\n",
    "\n",
    "print(f'a와 b의 합은 {sum([a, b])}')\n",
    "print(f'a와 b의 평균값은 {sum([a, b]) / len([a, b])}')"
   ]
  },
  {
   "cell_type": "code",
   "execution_count": null,
   "metadata": {},
   "outputs": [
    {
     "name": "stdout",
     "output_type": "stream",
     "text": [
      "S\n",
      "W\n",
      "!\n"
     ]
    }
   ],
   "source": [
    "# 문제 010: 문자열에서 하나의 문자 뽑아내기\n",
    "makit='Sieun Woojin!'\n",
    "result = makit[0]\n",
    "print(result)\n",
    "\n",
    "result = makit.split()[1][0]\n",
    "\n",
    "print(result)\n",
    "result = makit[-1]\n",
    "print(result)"
   ]
  },
  {
   "cell_type": "code",
   "execution_count": null,
   "metadata": {},
   "outputs": [
    {
     "name": "stdout",
     "output_type": "stream",
     "text": [
      "eun Woo\n",
      "Sieun\n",
      "Woojin!\n"
     ]
    }
   ],
   "source": [
    "# 문제 011: 문자열에서 여러 문자 뽑아내기\n",
    "makit = 'Sieun Woojin!'\n",
    "result = makit[2:9]\n",
    "print(result)\n",
    "result = makit.split()[0]\n",
    "print(result)\n",
    "result = makit.split()[1]\n",
    "print(result)"
   ]
  },
  {
   "cell_type": "code",
   "execution_count": 2,
   "metadata": {},
   "outputs": [
    {
     "name": "stdout",
     "output_type": "stream",
     "text": [
      "동동동\n"
     ]
    }
   ],
   "source": [
    "# 문제 012: 동쪽을 찾아라\n",
    "makit = '동서남북동서남북동서남북'\n",
    "print(makit[::4])"
   ]
  },
  {
   "cell_type": "code",
   "execution_count": 3,
   "metadata": {},
   "outputs": [
    {
     "name": "stdout",
     "output_type": "stream",
     "text": [
      "북남서동\n"
     ]
    }
   ],
   "source": [
    "# 문제 013: 문자열 뒤집기\n",
    "makit = '동서남북'\n",
    "print(makit[::-1])"
   ]
  },
  {
   "cell_type": "code",
   "execution_count": 4,
   "metadata": {},
   "outputs": [
    {
     "name": "stdout",
     "output_type": "stream",
     "text": [
      "010.1234.5678\n"
     ]
    }
   ],
   "source": [
    "# 문제 014: 문자열 바꾸기\n",
    "phone = '010-1234-5678'\n",
    "new_phone = phone.replace('-','.')\n",
    "print(new_phone)"
   ]
  },
  {
   "cell_type": "code",
   "execution_count": 5,
   "metadata": {},
   "outputs": [
    {
     "name": "stdout",
     "output_type": "stream",
     "text": [
      "1234 초(sec)는 20 분(min) 34 초(sec)입니다.\n"
     ]
    }
   ],
   "source": [
    "# 문제 017: 1234초는 몇 분, 몇 초일까\n",
    "second =  int(input('초를 입력하세요:'))\n",
    "min = second // 60\n",
    "sec = second % 60\n",
    "\n",
    "print(f'{second} 초(sec)는 {min} 분(min) {sec} 초(sec)입니다.')"
   ]
  },
  {
   "cell_type": "code",
   "execution_count": 8,
   "metadata": {},
   "outputs": [
    {
     "name": "stdout",
     "output_type": "stream",
     "text": [
      "7512 분은 5 일 5 시간 12 분입니다.\n"
     ]
    }
   ],
   "source": [
    "# 문제 018: 7512분은 며칠, 몇 시간, 몇 분일까\n",
    "minute =  int(input('분을 입력하세요:'))\n",
    "day = minute // (60 * 24)\n",
    "hour = minute % (60 * 24) // 60\n",
    "min = minute % (60 * 24) % 60\n",
    "\n",
    "print(f'{minute} 분은 {day} 일 {hour} 시간 {min} 분입니다.')"
   ]
  },
  {
   "cell_type": "code",
   "execution_count": 10,
   "metadata": {},
   "outputs": [
    {
     "name": "stdout",
     "output_type": "stream",
     "text": [
      "['메이킷', '우진', '시은']\n",
      "메이킷\n",
      "우진\n",
      "시은\n"
     ]
    }
   ],
   "source": [
    "# 문제 019: 기차처럼 만드는 리스트 자료 저장\n",
    "a = ['메이킷','우진','시은']\n",
    "print(a)\n",
    "print(a[0])\n",
    "print(a[1])\n",
    "print(a[2])"
   ]
  },
  {
   "cell_type": "code",
   "execution_count": 14,
   "metadata": {},
   "outputs": [
    {
     "name": "stdout",
     "output_type": "stream",
     "text": [
      "['메이킷', '우진']\n",
      "['우진', '제임스', '시은']\n",
      "['제임스', '시은']\n",
      "['메이킷', '우진', '제임스', '시은']\n"
     ]
    }
   ],
   "source": [
    "# 문제 020: 리스트 순서를 정하는 인덱스 알아보\n",
    "a = ['메이킷','우진','제임스','시은']\n",
    "print(a[0:2])\n",
    "print(a[1:])\n",
    "print(a[2:])\n",
    "print(a)"
   ]
  },
  {
   "cell_type": "code",
   "execution_count": 15,
   "metadata": {},
   "outputs": [
    {
     "name": "stdout",
     "output_type": "stream",
     "text": [
      "['우진', '시은', '메이킷']\n",
      "['우진', '시은']\n"
     ]
    }
   ],
   "source": [
    "# 문제 021: 리스트 추가, 삭제하기\n",
    "a = ['우진','시은']\n",
    "a.append('메이킷') # 리스트에 마지막 자료 추가하기\n",
    "print(a)\n",
    "a.remove('메이킷') # 리스트의 마지막 자료 삭제하기 del a[-1]보다는 a.pop(-1)\n",
    "print(a)"
   ]
  },
  {
   "cell_type": "code",
   "execution_count": 17,
   "metadata": {},
   "outputs": [
    {
     "name": "stdout",
     "output_type": "stream",
     "text": [
      "['우진', '하워드', '시은', '메이킷']\n"
     ]
    }
   ],
   "source": [
    "# 문제 022: 리스트 원하는 위치에 삽입하기 (insert)\n",
    "a = ['우진','시은','메이킷']\n",
    "a.insert(1,'하워드')\n",
    "print(a)"
   ]
  },
  {
   "cell_type": "code",
   "execution_count": 18,
   "metadata": {},
   "outputs": [
    {
     "name": "stdout",
     "output_type": "stream",
     "text": [
      "['우진', '시은', '메이킷', '소피아', '하워드']\n",
      "['메이킷', '소피아', '하워드']\n"
     ]
    }
   ],
   "source": [
    "# 문제 023: 리스트 합치기 : + 일 때 새로운 리스트 생성되는 것이기 때문에 extend보다는 + !\n",
    "a = ['우진', '시은']\n",
    "b = ['메이킷', '소피아', '하워드']\n",
    "a = a + b\n",
    "print(a)\n",
    "print(b)"
   ]
  },
  {
   "cell_type": "code",
   "execution_count": 10,
   "metadata": {},
   "outputs": [
    {
     "name": "stdout",
     "output_type": "stream",
     "text": [
      "['우진', '시은']\n",
      "['우진', '시은', '메이킷', '소피아', '하워드']\n"
     ]
    }
   ],
   "source": [
    "# 문제 024: 공백 리스트와 합치기\n",
    "a = ['우진','시은']\n",
    "b = ['메이킷','소피아','하워드']\n",
    "c = []\n",
    "c.extend(a)\n",
    "print(c) # ['우진','시은'] 출력\n",
    "c.extend(b)\n",
    "print(c) # ['우진','시은','메이킷','소피아','하워드'] 출력"
   ]
  },
  {
   "cell_type": "code",
   "execution_count": 11,
   "metadata": {},
   "outputs": [
    {
     "name": "stdout",
     "output_type": "stream",
     "text": [
      "리스트 a의 개수 즉 길이는  6\n",
      "리스트 a의 숫자들의 평균은  5.5\n"
     ]
    }
   ],
   "source": [
    "# 문제 025: 리스트의 개수인 길이 구하기\n",
    "a = [3, 7, 4, 5, 6, 8]\n",
    "print('리스트 a의 개수 즉 길이는', len(a) )\n",
    "print('리스트 a의 숫자들의 평균은', sum(a)/len(a) )"
   ]
  },
  {
   "cell_type": "code",
   "execution_count": 27,
   "metadata": {},
   "outputs": [],
   "source": [
    "# 함수 작성 ver\n",
    "a = [3, 7, 4, 5, 6, 8]\n",
    "def my_len(nums):\n",
    "    length = 0\n",
    "    for i in nums:\n",
    "        length += 1\n",
    "    return length\n",
    "\n",
    "def my_sum(nums):\n",
    "    total = 0\n",
    "    for i in nums:\n",
    "        total += i\n",
    "    return total"
   ]
  },
  {
   "cell_type": "code",
   "execution_count": 30,
   "metadata": {},
   "outputs": [
    {
     "data": {
      "text/plain": [
       "[1, 2, 3, 4, 5, 6]"
      ]
     },
     "execution_count": 30,
     "metadata": {},
     "output_type": "execute_result"
    }
   ],
   "source": [
    "a = [[1,2,3],[4,5,6]]\n",
    "sum(a, []) # 리스트 합치기"
   ]
  },
  {
   "cell_type": "code",
   "execution_count": 12,
   "metadata": {},
   "outputs": [
    {
     "name": "stdout",
     "output_type": "stream",
     "text": [
      "b : [1, 2, 3, 4, 5]\n",
      "c : ['a', 'b', 'c', 'd', 'e']\n",
      "d : [5, 'a']\n",
      "e : [1, 3, 5, 'b', 'd']\n",
      "f : [2, 4, 'a', 'c', 'e']\n"
     ]
    }
   ],
   "source": [
    "# 문제 026: 리스트 잘라내기(슬라이싱)\n",
    "a = [1,2, 3, 4, 5, 'a', 'b', 'c', 'd', 'e']\n",
    "\n",
    "b = a[:5]\n",
    "print('b :',b)\n",
    "\n",
    "c = a[5:]\n",
    "print('c :',c)\n",
    "\n",
    "d = a[4:6]\n",
    "print('d :',d)\n",
    "\n",
    "e = a[::2]\n",
    "print('e :',e)\n",
    "\n",
    "f = a[1::2]\n",
    "print('f :',f)"
   ]
  },
  {
   "cell_type": "code",
   "execution_count": 14,
   "metadata": {},
   "outputs": [
    {
     "name": "stdout",
     "output_type": "stream",
     "text": [
      "['우진', '시은', '윤진', '형우']\n"
     ]
    }
   ],
   "source": [
    "# 문제 027: 리스트 거꾸로 잘라내기\n",
    "a = ['형우', '윤진', '시은', '우진']\n",
    "b = a[::-1]\n",
    "print(b)"
   ]
  },
  {
   "cell_type": "code",
   "execution_count": 16,
   "metadata": {},
   "outputs": [
    {
     "name": "stdout",
     "output_type": "stream",
     "text": [
      "메이킷 학생의 시험 점수는 95\n",
      "우진 학생의 시험 점수는 100\n",
      "시은 학생의 시험 점수는 98\n"
     ]
    }
   ],
   "source": [
    "# 문제 028: 리스트 안에 리스트\n",
    "a = [['메이킷', 95], ['우진', 100], ['시은', 98]]\n",
    "print(a[0][0] ,'학생의 시험 점수는', a[0][1])\n",
    "print(a[1][0] ,'학생의 시험 점수는',a[1][1] )\n",
    "print(a[2][0] ,'학생의 시험 점수는',a[2][1])"
   ]
  },
  {
   "cell_type": "code",
   "execution_count": 17,
   "metadata": {},
   "outputs": [
    {
     "name": "stdout",
     "output_type": "stream",
     "text": [
      "시은 우진 지훈 지연\n"
     ]
    }
   ],
   "source": [
    "# 문제 029: 리스트 안에 있는 문자로 하나의 문자열 만들기(join)\n",
    "a = ['시은', '우진', '지훈', '지연']\n",
    "b = ' '.join(a)\n",
    "print(b)"
   ]
  },
  {
   "cell_type": "code",
   "execution_count": 18,
   "metadata": {},
   "outputs": [
    {
     "name": "stdout",
     "output_type": "stream",
     "text": [
      "['시은', '우진', '지훈', '지연']\n"
     ]
    }
   ],
   "source": [
    "# 문제 030: 문자열 분리해 리스트 만들기(split)\n",
    "a = '시은 우진 지훈 지연'\n",
    "\n",
    "b = a.split()\n",
    "\n",
    "print(b)"
   ]
  },
  {
   "cell_type": "code",
   "execution_count": 22,
   "metadata": {},
   "outputs": [
    {
     "name": "stdout",
     "output_type": "stream",
     "text": [
      "2\n"
     ]
    }
   ],
   "source": [
    "# 문제 031: 여러 개의 값 입력받기\n",
    "a = list(map(int, input().split()))\n",
    "print(min(a))"
   ]
  },
  {
   "cell_type": "code",
   "execution_count": null,
   "metadata": {},
   "outputs": [],
   "source": [
    "# 문제 032: 두 수 비교하기\n",
    "x = int(input('첫 번째 정수를 입력하세요:'))\n",
    "y = int(input('두 번째 정수를 입력하세요:'))\n",
    "\n",
    "if x > y:\n",
    "    print('makit')\n",
    "else:\n",
    "    print('woojin')"
   ]
  },
  {
   "cell_type": "code",
   "execution_count": 47,
   "metadata": {},
   "outputs": [
    {
     "name": "stdout",
     "output_type": "stream",
     "text": [
      "woojing\n"
     ]
    }
   ],
   "source": [
    "# 매니악 ver.. 와 짱이다....\n",
    "x = int(input('첫 번째 정수를 입력하세요:'))\n",
    "y = int(input('두 번째 정수를 입력하세요:'))\n",
    "print(['woojin','makit'][x > y])"
   ]
  },
  {
   "cell_type": "code",
   "execution_count": 1,
   "metadata": {},
   "outputs": [
    {
     "name": "stdout",
     "output_type": "stream",
     "text": [
      "3\n",
      "8\n"
     ]
    }
   ],
   "source": [
    "# 문제 033: 세 개의 수 비교하기\n",
    "a = int(input('첫 번째 정수를 입력하세요:'))\n",
    "b = int(input('두 번째 정수를 입력하세요:'))\n",
    "c = int(input('세 번째 정수를 입력하세요:'))"
   ]
  },
  {
   "cell_type": "code",
   "execution_count": 7,
   "metadata": {},
   "outputs": [
    {
     "name": "stdout",
     "output_type": "stream",
     "text": [
      "남자 1980 년 출생\n"
     ]
    }
   ],
   "source": [
    "# 문제 045: 주민등록번호 분석기\n",
    "num  = input('주민등록번호 입력:')\n",
    "if num[7:8] == '1':\n",
    "    print(f'남자 19{num[0:2]} 년 출생') \n",
    "elif num[7:8] == '2':\n",
    "    print(f'여자 19{num[0:2]} 년 출생') \n",
    "elif num[7:8] == '3':\n",
    "    print(f'남자 20{num[0:2]} 년 출생') \n",
    "else:\n",
    "    print(f'여자 20{num[0:2]} 년 출생') "
   ]
  },
  {
   "cell_type": "code",
   "execution_count": null,
   "metadata": {},
   "outputs": [],
   "source": [
    "# 1. 입력\n",
    "id = input('주민등록번호 입력:')\n",
    "front, back = id.split('-')\n",
    "\n",
    "# 2. 로직\n",
    "# 주민번호 뒷자리 첫째 자리가 1 또는 2인 경우\n",
    "if back[0] == '1' or back[0] =='2':\n",
    "    year = 1900\n",
    "elif back[0] == '3' or back[0] =='4':\n",
    "    year = 2000\n",
    "# 주민번호 앞잘의 첫째 자리와 둘째 자리를 가져온다.\n",
    "year = year + int(front[0:2])\n",
    "\n",
    "# 남성이라면 주민번호 뒷자리 1, 3\n",
    "if back[0] == '1' or back[0] == '3':\n",
    "    gender = '남성'\n",
    "# 여성         //          2, 4 \n",
    "elif back[0] == '2' or back[0] == '4':\n",
    "    gender = '여성'\n",
    "\n",
    "\n",
    "# 3. 출력\n",
    "# \"성별 xxxx 년 출생\"\n",
    "print(f'{gender} {year} 년 출생')"
   ]
  },
  {
   "cell_type": "code",
   "execution_count": 12,
   "metadata": {},
   "outputs": [],
   "source": [
    "# 문제 046: ‘도, 개, 걸, 윷, 모’ 윷놀이\n",
    "num = list(map(int, input().split()))\n",
    "if sum(num) == 1:\n",
    "    print('도')\n",
    "elif sum(num) == 2:\n",
    "    print('개')\n",
    "elif sum(num) == 3:\n",
    "    print('걸')\n",
    "elif sum(num) == 4:\n",
    "    print('윷')\n",
    "else:\n",
    "    print('모')"
   ]
  },
  {
   "cell_type": "code",
   "execution_count": 37,
   "metadata": {},
   "outputs": [
    {
     "data": {
      "text/plain": [
       "'걸'"
      ]
     },
     "execution_count": 37,
     "metadata": {},
     "output_type": "execute_result"
    }
   ],
   "source": [
    "num = list(map(int, input().split()))\n",
    "ans = ['모', '도', '개', '걸', '윷', '모']\n",
    "ans[sum(num)]"
   ]
  },
  {
   "cell_type": "code",
   "execution_count": null,
   "metadata": {},
   "outputs": [],
   "source": [
    "# 문제 047: 표준 몸무게 알아보기\n",
    "height, weight = map(int, input().split())\n",
    "BMI = weight / height * height\n",
    "print(f'BMI 지수는 {BMI} 이고 {}입니다.')"
   ]
  },
  {
   "cell_type": "code",
   "execution_count": 29,
   "metadata": {},
   "outputs": [
    {
     "name": "stdout",
     "output_type": "stream",
     "text": [
      "BMI 지수는 22.145328719723185 이고 정상 체중입니다\n"
     ]
    }
   ],
   "source": [
    "height, weight = map(int, input().split())\n",
    "height *= 0.01\n",
    "BMI = weight / (height * height)\n",
    "if BMI >= 30:\n",
    "    print(f'BMI 지수는 {BMI} 이고 고도 비만입니다')\n",
    "elif BMI >= 25 and BMI <= 29.9:\n",
    "    print(f'BMI 지수는 {BMI} 이고 경도 비만입니다')\n",
    "elif BMI >= 23 and BMI <= 24.9:\n",
    "    print(f'BMI 지수는 {BMI} 이고 과체중입니다')\n",
    "elif BMI >= 18.5 and BMI <= 29.9:\n",
    "    print(f'BMI 지수는 {BMI} 이고 정상 체중입니다')\n",
    "else:\n",
    "    print(f'BMI 지수는 {BMI} 이고 저체중입니다')"
   ]
  },
  {
   "cell_type": "code",
   "execution_count": 36,
   "metadata": {},
   "outputs": [
    {
     "name": "stdout",
     "output_type": "stream",
     "text": [
      "삼각형 가능\n"
     ]
    }
   ],
   "source": [
    "# 문제 048: 삼각형 만들기 \n",
    "num = list(map(int, input().split()))\n",
    "num_sorted = sorted(num)\n",
    "a, b, c = num_sorted\n",
    "if c < a + b:\n",
    "    print('삼각형 가능')\n",
    "else:\n",
    "    print('삼각형 불가')"
   ]
  },
  {
   "cell_type": "markdown",
   "metadata": {},
   "source": [
    "61까지"
   ]
  },
  {
   "cell_type": "code",
   "execution_count": 38,
   "metadata": {},
   "outputs": [
    {
     "name": "stdout",
     "output_type": "stream",
     "text": [
      "1\n",
      "2\n",
      "3\n",
      "4\n",
      "5\n",
      "6\n",
      "7\n",
      "8\n",
      "9\n",
      "10\n",
      "발사\n"
     ]
    }
   ],
   "source": [
    "# 문제 049: 로켓 발사 I\n",
    "for i in range(1,11):\n",
    "    print(i)\n",
    "print('발사!')"
   ]
  },
  {
   "cell_type": "code",
   "execution_count": 39,
   "metadata": {},
   "outputs": [
    {
     "name": "stdout",
     "output_type": "stream",
     "text": [
      "1\n",
      "2\n",
      "3\n",
      "4\n",
      "5\n",
      "6\n",
      "7\n",
      "8\n",
      "9\n",
      "10\n",
      "발사!\n"
     ]
    }
   ],
   "source": [
    "# 문제 050: 로켓 발사 II\n",
    "num = 1\n",
    "while num < 11:\n",
    "    print(num)\n",
    "    num += 1\n",
    "print('발사!')"
   ]
  },
  {
   "cell_type": "code",
   "execution_count": 46,
   "metadata": {},
   "outputs": [
    {
     "name": "stdout",
     "output_type": "stream",
     "text": [
      "10\n",
      "9\n",
      "8\n",
      "7\n",
      "6\n",
      "5\n",
      "4\n",
      "3\n",
      "2\n",
      "1\n",
      "발사!\n"
     ]
    }
   ],
   "source": [
    "# 문제 051: 로켓 발사 10초 전\n",
    "num = int(input('카운트다운 몇 초 전인가요?'))\n",
    "for i in range(0, num):\n",
    "    print(10 - i)\n",
    "print('발사!')"
   ]
  },
  {
   "cell_type": "code",
   "execution_count": 50,
   "metadata": {},
   "outputs": [
    {
     "name": "stdout",
     "output_type": "stream",
     "text": [
      "1부터 10 까지 모두 더한 합은 55\n"
     ]
    }
   ],
   "source": [
    "# 문제 052: 1부터 100까지 모두 합한 수 I\n",
    "num =  int(input())\n",
    "total = 0\n",
    "for i in range(1, num + 1):\n",
    "    total += i\n",
    "print(f'1부터 {num} 까지 모두 더한 합은 {total}')"
   ]
  },
  {
   "cell_type": "code",
   "execution_count": 56,
   "metadata": {},
   "outputs": [
    {
     "name": "stdout",
     "output_type": "stream",
     "text": [
      "1부터 10 까지 모두 더한 합은 55\n"
     ]
    }
   ],
   "source": [
    "# 문제 053: 1부터 100까지 모두 합한 수 II\n",
    "num =  int(input())\n",
    "total = 0\n",
    "i = 1\n",
    "while i <= num:\n",
    "    total += i\n",
    "    i += 1\n",
    "print(f'1부터 {num} 까지 모두 더한 합은 {total}')"
   ]
  },
  {
   "cell_type": "code",
   "execution_count": 62,
   "metadata": {},
   "outputs": [
    {
     "name": "stdout",
     "output_type": "stream",
     "text": [
      "입력된 숫자는 100\n",
      "입력된 숫자는 10\n",
      "종료합니다.\n"
     ]
    }
   ],
   "source": [
    "# 문제 054: 음수가 나올 때까지 반복하기\n",
    "num = 0\n",
    "while True:\n",
    "    num = int(input('숫자를 입력하세요 '))\n",
    "    if num < 0 :\n",
    "        print('종료합니다.')\n",
    "        break\n",
    "    print(f'입력된 숫자는 {num}')\n"
   ]
  },
  {
   "cell_type": "code",
   "execution_count": 63,
   "metadata": {},
   "outputs": [
    {
     "name": "stdout",
     "output_type": "stream",
     "text": [
      "1 2 3 4 5 6 7 8 9 10 "
     ]
    }
   ],
   "source": [
    "# 문제 055: 옆으로 출력하기\n",
    "for i in range(1, 11):\n",
    "    print(i, end = ' ')"
   ]
  },
  {
   "cell_type": "code",
   "execution_count": 16,
   "metadata": {},
   "outputs": [
    {
     "name": "stdout",
     "output_type": "stream",
     "text": [
      "1+2+3+4+5+6+7+8+9+10= 55\n"
     ]
    }
   ],
   "source": [
    "# 문제 056: “1+2+3+4+5= 15”\n",
    "a = int(input('첫 번째 숫자를 입력하세요'))\n",
    "b = int(input('두 번째 숫자를 입력하세요'))\n",
    "total = 10\n",
    "for i in range(a, b):\n",
    "    print(i , end = '+')\n",
    "    total += i\n",
    "print(b, end = '= ')\n",
    "print(total)"
   ]
  },
  {
   "cell_type": "code",
   "execution_count": 20,
   "metadata": {},
   "outputs": [
    {
     "name": "stdout",
     "output_type": "stream",
     "text": [
      "1부터 5까지 짝수들만의 합은 6\n"
     ]
    }
   ],
   "source": [
    "# 문제 057: 짝수들만 합하기\n",
    "num1 =  int(input('첫 번재 숫자를 입력하세요'))\n",
    "num2 =  int(input('두 번재 숫자를 입력하세요'))\n",
    "total = 0\n",
    "for i in range(num1, num2+1):\n",
    "    if i % 2 == 0 :\n",
    "        total += i\n",
    "\n",
    "print(f'{num1}부터 {num2}까지 짝수들만의 합은 {total}')"
   ]
  },
  {
   "cell_type": "code",
   "execution_count": null,
   "metadata": {},
   "outputs": [],
   "source": [
    "# 문제 058: 독특한 삼각뿔 주사위, 이중 반복문"
   ]
  },
  {
   "cell_type": "code",
   "execution_count": 21,
   "metadata": {},
   "outputs": [
    {
     "name": "stdout",
     "output_type": "stream",
     "text": [
      "16777216\n"
     ]
    }
   ],
   "source": [
    "# 문제 059: RGB로 색깔 표현하기\n",
    "total = 0\n",
    "for i in range(256):\n",
    "    for j in range(256):\n",
    "        for k in range(256):\n",
    "            total += 1\n",
    "print(total)"
   ]
  },
  {
   "cell_type": "code",
   "execution_count": 69,
   "metadata": {},
   "outputs": [
    {
     "name": "stdout",
     "output_type": "stream",
     "text": [
      "*\n",
      "**\n",
      "***\n",
      "****\n",
      "*****\n"
     ]
    }
   ],
   "source": [
    "# 문제 061: 삼각형 별 찍기 I\n",
    "for i in range(1,6):\n",
    "    print('*' * i)"
   ]
  },
  {
   "cell_type": "code",
   "execution_count": 72,
   "metadata": {},
   "outputs": [
    {
     "name": "stdout",
     "output_type": "stream",
     "text": [
      "*\n",
      "**\n",
      "***\n",
      "****\n",
      "*****\n"
     ]
    }
   ],
   "source": [
    "for n in range(1,6):\n",
    "    for m in range(i):\n",
    "        print('*', end='')\n",
    "    print('')"
   ]
  },
  {
   "cell_type": "code",
   "execution_count": null,
   "metadata": {},
   "outputs": [],
   "source": [
    "print('\\n'.join())"
   ]
  },
  {
   "cell_type": "code",
   "execution_count": 10,
   "metadata": {},
   "outputs": [
    {
     "name": "stdout",
     "output_type": "stream",
     "text": [
      "    *\n",
      "   **\n",
      "  ***\n",
      " ****\n",
      "*****\n"
     ]
    }
   ],
   "source": [
    "# 1. n번째 줄에 해당하는\n",
    "#  - 공백을 총 몇개 출력해야하는가?\n",
    "#  - 별을 총 몇개 출력해야하는가\n",
    "for n in range(1, 6):\n",
    "    for m in range(5-n):\n",
    "        print(' ', end='')\n",
    "    for m in range(n):\n",
    "        print('*', end= '')\n",
    "    print()"
   ]
  },
  {
   "cell_type": "code",
   "execution_count": 15,
   "metadata": {},
   "outputs": [
    {
     "name": "stdout",
     "output_type": "stream",
     "text": [
      "    *\n",
      "   ***\n",
      "  *****\n",
      " *******\n"
     ]
    }
   ],
   "source": [
    "# 피라미드 : 범용적으로 사용하기 위한 방안?!\n",
    "for n in range(0, 4):\n",
    "    for m in range(4-n):\n",
    "        print(' ', end='')\n",
    "    for m in range(2*n + 1):\n",
    "        print('*', end= '')\n",
    "    print()"
   ]
  },
  {
   "cell_type": "code",
   "execution_count": null,
   "metadata": {},
   "outputs": [],
   "source": []
  }
 ],
 "metadata": {
  "kernelspec": {
   "display_name": "Python 3",
   "language": "python",
   "name": "python3"
  },
  "language_info": {
   "codemirror_mode": {
    "name": "ipython",
    "version": 3
   },
   "file_extension": ".py",
   "mimetype": "text/x-python",
   "name": "python",
   "nbconvert_exporter": "python",
   "pygments_lexer": "ipython3",
   "version": "3.9.13"
  },
  "orig_nbformat": 4
 },
 "nbformat": 4,
 "nbformat_minor": 2
}
