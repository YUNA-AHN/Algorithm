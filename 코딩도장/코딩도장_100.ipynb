{
 "cells": [
  {
   "cell_type": "code",
   "execution_count": null,
   "metadata": {},
   "outputs": [
    {
     "name": "stdout",
     "output_type": "stream",
     "text": [
      "makit \"code\" lab\n",
      "she's gone\n"
     ]
    }
   ],
   "source": [
    "# 문제 001: 문자 출력하기\n",
    "print('makit \"code\" lab' + '\\n'\n",
    "    + \"she's gone\")"
   ]
  },
  {
   "cell_type": "code",
   "execution_count": null,
   "metadata": {},
   "outputs": [
    {
     "name": "stdout",
     "output_type": "stream",
     "text": [
      "a의 값은 10\n",
      "b의 값은 20\n",
      "a와 b의 합은 30\n"
     ]
    }
   ],
   "source": [
    "# 문제 002: 숫자 저장하기\n",
    "a = 10\n",
    "b = 20\n",
    "print(f'a의 값은 {a}')\n",
    "print(f'b의 값은 {b}')\n",
    "print(f'a와 b의 합은 {a+b}')"
   ]
  },
  {
   "cell_type": "code",
   "execution_count": 1,
   "metadata": {},
   "outputs": [
    {
     "name": "stdout",
     "output_type": "stream",
     "text": [
      "30을 8로 나눈 몫은 3\n",
      "30을 8로 나눈 나머지는 6\n",
      "30을 8로 나눈 결과는 3.75\n"
     ]
    }
   ],
   "source": [
    "# 문제 005: 몫 연산자(//)와 나머지 연산자(%)\n",
    "a = 30 // 8\n",
    "b = 30 % 8\n",
    "print(f'30을 8로 나눈 몫은 {a}')\n",
    "print(f'30을 8로 나눈 나머지는 {b}')\n",
    "print(f'30을 8로 나눈 결과는 {30/8}')"
   ]
  },
  {
   "cell_type": "code",
   "execution_count": 3,
   "metadata": {},
   "outputs": [
    {
     "name": "stdout",
     "output_type": "stream",
     "text": [
      "시은 우진 화이팅!!\n",
      "\n",
      "시은 우진 화이팅!!\n"
     ]
    }
   ],
   "source": [
    "# 문제 007: 한 줄 띄기\n",
    "a = '시은 우진'\n",
    "a += ' 화이팅!!'\n",
    "print(a, end='\\n\\n')\n",
    "print(a)"
   ]
  },
  {
   "cell_type": "code",
   "execution_count": 5,
   "metadata": {},
   "outputs": [
    {
     "name": "stdout",
     "output_type": "stream",
     "text": [
      "ㅙㅙ 님은 내년에는 18 살이 됩니다.\n"
     ]
    }
   ],
   "source": [
    "# 문제 008: 입력받아 컴퓨터랑 대화하기\n",
    "name = input('이름이 무엇인가요? ')\n",
    "age = int(input('몇 살인가요? '))\n",
    "print(f'{name} 님은 내년에는 {age + 1} 살이 됩니다.')"
   ]
  },
  {
   "cell_type": "code",
   "execution_count": 1,
   "metadata": {},
   "outputs": [
    {
     "name": "stdout",
     "output_type": "stream",
     "text": [
      "a와 b의 합은 5.5\n",
      "a와 b의 평균값은 2.75\n",
      "a와 b의 합은 5.5\n",
      "a와 b의 평균값은 2.75\n"
     ]
    }
   ],
   "source": [
    "# 문제 009: 두 수를 입력받아 합과 평균 구하기\n",
    "a = int(input())\n",
    "b = float(input())\n",
    "print(f'a와 b의 합은 {a+b}')\n",
    "print(f'a와 b의 평균값은 {(a+b)/2}')\n",
    "\n",
    "print(f'a와 b의 합은 {sum([a, b])}')\n",
    "print(f'a와 b의 평균값은 {sum([a, b]) / len([a, b])}')"
   ]
  },
  {
   "cell_type": "code",
   "execution_count": null,
   "metadata": {},
   "outputs": [
    {
     "name": "stdout",
     "output_type": "stream",
     "text": [
      "S\n",
      "W\n",
      "!\n"
     ]
    }
   ],
   "source": [
    "# 문제 010: 문자열에서 하나의 문자 뽑아내기\n",
    "makit='Sieun Woojin!'\n",
    "result = makit[0]\n",
    "print(result)\n",
    "\n",
    "result = makit.split()[1][0]\n",
    "\n",
    "print(result)\n",
    "result = makit[-1]\n",
    "print(result)"
   ]
  },
  {
   "cell_type": "code",
   "execution_count": null,
   "metadata": {},
   "outputs": [
    {
     "name": "stdout",
     "output_type": "stream",
     "text": [
      "eun Woo\n",
      "Sieun\n",
      "Woojin!\n"
     ]
    }
   ],
   "source": [
    "# 문제 011: 문자열에서 여러 문자 뽑아내기\n",
    "makit = 'Sieun Woojin!'\n",
    "result = makit[2:9]\n",
    "print(result)\n",
    "result = makit.split()[0]\n",
    "print(result)\n",
    "result = makit.split()[1]\n",
    "print(result)"
   ]
  },
  {
   "cell_type": "code",
   "execution_count": 2,
   "metadata": {},
   "outputs": [
    {
     "name": "stdout",
     "output_type": "stream",
     "text": [
      "동동동\n"
     ]
    }
   ],
   "source": [
    "# 문제 012: 동쪽을 찾아라\n",
    "makit = '동서남북동서남북동서남북'\n",
    "print(makit[::4])"
   ]
  },
  {
   "cell_type": "code",
   "execution_count": 3,
   "metadata": {},
   "outputs": [
    {
     "name": "stdout",
     "output_type": "stream",
     "text": [
      "북남서동\n"
     ]
    }
   ],
   "source": [
    "# 문제 013: 문자열 뒤집기\n",
    "makit = '동서남북'\n",
    "print(makit[::-1])"
   ]
  },
  {
   "cell_type": "code",
   "execution_count": 4,
   "metadata": {},
   "outputs": [
    {
     "name": "stdout",
     "output_type": "stream",
     "text": [
      "010.1234.5678\n"
     ]
    }
   ],
   "source": [
    "# 문제 014: 문자열 바꾸기\n",
    "phone = '010-1234-5678'\n",
    "new_phone = phone.replace('-','.')\n",
    "print(new_phone)"
   ]
  },
  {
   "cell_type": "code",
   "execution_count": 5,
   "metadata": {},
   "outputs": [
    {
     "name": "stdout",
     "output_type": "stream",
     "text": [
      "1234 초(sec)는 20 분(min) 34 초(sec)입니다.\n"
     ]
    }
   ],
   "source": [
    "# 문제 017: 1234초는 몇 분, 몇 초일까\n",
    "second =  int(input('초를 입력하세요:'))\n",
    "min = second // 60\n",
    "sec = second % 60\n",
    "\n",
    "print(f'{second} 초(sec)는 {min} 분(min) {sec} 초(sec)입니다.')"
   ]
  },
  {
   "cell_type": "code",
   "execution_count": 8,
   "metadata": {},
   "outputs": [
    {
     "name": "stdout",
     "output_type": "stream",
     "text": [
      "7512 분은 5 일 5 시간 12 분입니다.\n"
     ]
    }
   ],
   "source": [
    "# 문제 018: 7512분은 며칠, 몇 시간, 몇 분일까\n",
    "minute =  int(input('분을 입력하세요:'))\n",
    "day = minute // (60 * 24)\n",
    "hour = minute % (60 * 24) // 60\n",
    "min = minute % (60 * 24) % 60\n",
    "\n",
    "print(f'{minute} 분은 {day} 일 {hour} 시간 {min} 분입니다.')"
   ]
  },
  {
   "cell_type": "code",
   "execution_count": 10,
   "metadata": {},
   "outputs": [
    {
     "name": "stdout",
     "output_type": "stream",
     "text": [
      "['메이킷', '우진', '시은']\n",
      "메이킷\n",
      "우진\n",
      "시은\n"
     ]
    }
   ],
   "source": [
    "# 문제 019: 기차처럼 만드는 리스트 자료 저장\n",
    "a = ['메이킷','우진','시은']\n",
    "print(a)\n",
    "print(a[0])\n",
    "print(a[1])\n",
    "print(a[2])"
   ]
  },
  {
   "cell_type": "code",
   "execution_count": 14,
   "metadata": {},
   "outputs": [
    {
     "name": "stdout",
     "output_type": "stream",
     "text": [
      "['메이킷', '우진']\n",
      "['우진', '제임스', '시은']\n",
      "['제임스', '시은']\n",
      "['메이킷', '우진', '제임스', '시은']\n"
     ]
    }
   ],
   "source": [
    "# 문제 020: 리스트 순서를 정하는 인덱스 알아보\n",
    "a = ['메이킷','우진','제임스','시은']\n",
    "print(a[0:2])\n",
    "print(a[1:])\n",
    "print(a[2:])\n",
    "print(a)"
   ]
  },
  {
   "cell_type": "code",
   "execution_count": 15,
   "metadata": {},
   "outputs": [
    {
     "name": "stdout",
     "output_type": "stream",
     "text": [
      "['우진', '시은', '메이킷']\n",
      "['우진', '시은']\n"
     ]
    }
   ],
   "source": [
    "# 문제 021: 리스트 추가, 삭제하기\n",
    "a = ['우진','시은']\n",
    "a.append('메이킷') # 리스트에 마지막 자료 추가하기\n",
    "print(a)\n",
    "a.remove('메이킷') # 리스트의 마지막 자료 삭제하기 del a[-1]\n",
    "print(a)"
   ]
  },
  {
   "cell_type": "code",
   "execution_count": 17,
   "metadata": {},
   "outputs": [
    {
     "name": "stdout",
     "output_type": "stream",
     "text": [
      "['우진', '하워드', '시은', '메이킷']\n"
     ]
    }
   ],
   "source": [
    "# 문제 022: 리스트 원하는 위치에 삽입하기 (insert)\n",
    "a = ['우진','시은','메이킷']\n",
    "a.insert(1,'하워드')\n",
    "print(a)"
   ]
  },
  {
   "cell_type": "code",
   "execution_count": 18,
   "metadata": {},
   "outputs": [
    {
     "name": "stdout",
     "output_type": "stream",
     "text": [
      "['우진', '시은', '메이킷', '소피아', '하워드']\n",
      "['메이킷', '소피아', '하워드']\n"
     ]
    }
   ],
   "source": [
    "# 문제 023: 리스트 합치기\n",
    "a = ['우진', '시은']\n",
    "b = ['메이킷', '소피아', '하워드']\n",
    "a = a + b\n",
    "print(a)\n",
    "print(b)"
   ]
  },
  {
   "cell_type": "code",
   "execution_count": null,
   "metadata": {},
   "outputs": [],
   "source": []
  }
 ],
 "metadata": {
  "kernelspec": {
   "display_name": "Python 3",
   "language": "python",
   "name": "python3"
  },
  "language_info": {
   "codemirror_mode": {
    "name": "ipython",
    "version": 3
   },
   "file_extension": ".py",
   "mimetype": "text/x-python",
   "name": "python",
   "nbconvert_exporter": "python",
   "pygments_lexer": "ipython3",
   "version": "3.9.13"
  },
  "orig_nbformat": 4
 },
 "nbformat": 4,
 "nbformat_minor": 2
}
